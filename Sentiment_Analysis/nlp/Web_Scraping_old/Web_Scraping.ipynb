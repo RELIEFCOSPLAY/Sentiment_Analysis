{
 "cells": [
  {
   "cell_type": "code",
   "execution_count": 4,
   "id": "6e4c7be1-aa10-4aee-91e8-480170492c0b",
   "metadata": {},
   "outputs": [],
   "source": [
    "import requests\n",
    "from bs4 import BeautifulSoup\n",
    "import pandas as pd\n",
    "\n",
    "# URL ของหน้าโรงแรมที่ต้องการดึงข้อมูล\n",
    "url = \"https://www.agoda.com/th-th/b2-chiang-rai/hotel/chiang-rai-th.html?finalPriceView=1&isShowMobileAppPrice=false&cid=1919460&numberOfBedrooms=&familyMode=false&adults=2&children=0&rooms=1&maxRooms=0&checkIn=2025-01-1&isCalendarCallout=false&childAges=&numberOfGuest=0&missingChildAges=false&travellerType=1&showReviewSubmissionEntry=false&currencyCode=THB&isFreeOccSearch=false&tag=0a328c07-ad6e-4792-a9e4-7ce7e23e118c&tspTypes=9%2C8&los=3&searchrequestid=21e3c02f-9691-4c23-8f18-d280976fedb2&ds=aIV31HDE2WS%2FPO5I\"\n",
    "\n",
    "# ตั้งค่า Headers เพื่อเลียนแบบการเข้าถึงจากเบราว์เซอร์\n",
    "headers = {\n",
    "    \"User-Agent\": \"Mozilla/5.0 (Windows NT 10.0; Win64; x64) AppleWebKit/537.36 (KHTML, like Gecko) Chrome/110.0.0.0 Safari/537.36\",\n",
    "}\n"
   ]
  },
  {
   "cell_type": "code",
   "execution_count": 2,
   "id": "f563f342-46d3-4a07-bca7-a865f40f24cd",
   "metadata": {},
   "outputs": [],
   "source": [
    "response = requests.get(url, headers=headers)\n",
    "soup = BeautifulSoup(response.text, \"html.parser\")\n"
   ]
  },
  {
   "cell_type": "code",
   "execution_count": 5,
   "id": "fe9d1b3b-a757-4728-9dcf-88224af51455",
   "metadata": {},
   "outputs": [
    {
     "data": {
      "text/html": [
       "<div>\n",
       "<style scoped>\n",
       "    .dataframe tbody tr th:only-of-type {\n",
       "        vertical-align: middle;\n",
       "    }\n",
       "\n",
       "    .dataframe tbody tr th {\n",
       "        vertical-align: top;\n",
       "    }\n",
       "\n",
       "    .dataframe thead th {\n",
       "        text-align: right;\n",
       "    }\n",
       "</style>\n",
       "<table border=\"1\" class=\"dataframe\">\n",
       "  <thead>\n",
       "    <tr style=\"text-align: right;\">\n",
       "      <th></th>\n",
       "    </tr>\n",
       "  </thead>\n",
       "  <tbody>\n",
       "  </tbody>\n",
       "</table>\n",
       "</div>"
      ],
      "text/plain": [
       "Empty DataFrame\n",
       "Columns: []\n",
       "Index: []"
      ]
     },
     "execution_count": 5,
     "metadata": {},
     "output_type": "execute_result"
    }
   ],
   "source": [
    "# ค้นหาองค์ประกอบที่มีรีวิว\n",
    "reviews_section = soup.find_all(\"div\", class_=\"Review-comment-body\")\n",
    "\n",
    "# สร้างลิสต์สำหรับเก็บข้อมูลรีวิว\n",
    "reviews = []\n",
    "\n",
    "for review in reviews_section:\n",
    "    # ดึงข้อความรีวิว\n",
    "    comment = review.find(\"p\", class_=\"Review-comment-bodyText\").text.strip()\n",
    "    # ดึงคะแนนรีวิว\n",
    "    rating = review.find(\"span\", class_=\"Review-comment-score\").text.strip()\n",
    "    # เพิ่มข้อมูลลงในลิสต์\n",
    "    reviews.append({\"Rating\": rating, \"Comment\": comment})\n",
    "\n",
    "# แปลงข้อมูลเป็น DataFrame\n",
    "df = pd.DataFrame(reviews)\n",
    "\n",
    "# แสดงตัวอย่างข้อมูล\n",
    "df.head()\n"
   ]
  },
  {
   "cell_type": "code",
   "execution_count": null,
   "id": "005ea845-a586-40af-aab8-381c831b7ce0",
   "metadata": {},
   "outputs": [],
   "source": [
    "# บันทึกข้อมูลลงไฟล์ Excel\n",
    "df.to_excel(\"agoda_reviews.xlsx\", index=False)\n"
   ]
  },
  {
   "cell_type": "code",
   "execution_count": null,
   "id": "48a4cdb8-81ea-4876-be12-d46ead9016f8",
   "metadata": {},
   "outputs": [],
   "source": []
  }
 ],
 "metadata": {
  "kernelspec": {
   "display_name": "Python 3 (ipykernel)",
   "language": "python",
   "name": "python3"
  },
  "language_info": {
   "codemirror_mode": {
    "name": "ipython",
    "version": 3
   },
   "file_extension": ".py",
   "mimetype": "text/x-python",
   "name": "python",
   "nbconvert_exporter": "python",
   "pygments_lexer": "ipython3",
   "version": "3.12.5"
  }
 },
 "nbformat": 4,
 "nbformat_minor": 5
}
