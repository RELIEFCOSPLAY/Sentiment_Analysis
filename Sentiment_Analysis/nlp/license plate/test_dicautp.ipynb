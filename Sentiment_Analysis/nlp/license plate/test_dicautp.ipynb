{
 "cells": [
  {
   "cell_type": "code",
   "execution_count": 1,
   "id": "3099fc46-19ae-482f-b754-b6f3c48740cf",
   "metadata": {},
   "outputs": [
    {
     "name": "stdout",
     "output_type": "stream",
     "text": [
      "---------- Start recognize license plate --------\n",
      "---------- End ----------\n"
     ]
    }
   ],
   "source": [
    "import io\n",
    "import os\n",
    "from google.cloud import vision_v1p3beta1 as vision\n",
    "import cv2\n",
    "import matplotlib.pyplot as plt\n",
    "\n",
    "# ตั้งค่า Google Cloud Vision API Key\n",
    "os.environ['GOOGLE_APPLICATION_CREDENTIALS'] = 'client_key.json'\n",
    "\n",
    "# กำหนดเส้นทางของโฟลเดอร์ที่เก็บภาพ\n",
    "SOURCE_PATH = \"lp.jpg\"\n",
    "\n",
    "def recognize_license_plate(img_path):\n",
    "    # โหลดภาพด้วย OpenCV\n",
    "    img = cv2.imread(img_path)\n",
    "    height, width = img.shape[:2]\n",
    "    \n",
    "    # ปรับขนาดของภาพ\n",
    "    img = cv2.resize(img, (800, int((height * 800) / width)))\n",
    "    \n",
    "    # สร้างไฟล์ชั่วคราว\n",
    "    temp_img_path = os.path.join(SOURCE_PATH, \"output.jpg\")\n",
    "    cv2.imwrite(temp_img_path, img)\n",
    "    \n",
    "    # สร้าง Google Vision Client\n",
    "    client = vision.ImageAnnotatorClient()\n",
    "    \n",
    "    # อ่านไฟล์ภาพ\n",
    "    with io.open(temp_img_path, 'rb') as image_file:\n",
    "        content = image_file.read()\n",
    "    image = vision.Image(content=content)\n",
    "    \n",
    "    # ตรวจจับโลโก้และข้อความในภาพ\n",
    "    response = client.logo_detection(image=image)\n",
    "    logos = response.logo_annotations\n",
    "    response2 = client.text_detection(image=image)\n",
    "    texts = response2.text_annotations\n",
    "    \n",
    "    # วาดผลการตรวจจับโลโก้\n",
    "    for logo in logos:\n",
    "        print(\"โลโก้ที่ตรวจพบ:\", logo.description)\n",
    "        cv2.putText(img, logo.description, (50, 50), cv2.FONT_HERSHEY_SIMPLEX, 1, (0, 0, 255), 2)\n",
    "    \n",
    "    # วาดผลการตรวจจับป้ายทะเบียน\n",
    "    if texts:\n",
    "        license_plate = texts[0].description  # ป้ายทะเบียนตัวแรก\n",
    "        print(\"ป้ายทะเบียนที่ตรวจพบ:\", license_plate)\n",
    "        vertices = [(vertex.x, vertex.y) for vertex in texts[0].bounding_poly.vertices]\n",
    "        cv2.rectangle(img, (vertices[0][0]-10, vertices[0][1]-10), \n",
    "                      (vertices[2][0]+10, vertices[2][1]+10), (0, 255, 0), 3)\n",
    "        \n",
    "    # แสดงภาพที่ตรวจจับได้ใน Jupyter Notebook\n",
    "    img_rgb = cv2.cvtColor(img, cv2.COLOR_BGR2RGB)\n",
    "    plt.imshow(img_rgb)\n",
    "    plt.axis('off')\n",
    "    plt.show()\n",
    "\n",
    "print('---------- Start recognize license plate --------')\n",
    "\n",
    "# ค้นหาไฟล์ภาพในโฟลเดอร์\n",
    "files = [os.path.join(r, file) for r, d, f in os.walk(SOURCE_PATH) for file in f if file.endswith('.jpg')]\n",
    "\n",
    "# รันการตรวจจับป้ายทะเบียนในภาพทั้งหมด\n",
    "for file_path in files:\n",
    "    print(\"กำลังตรวจจับป้ายทะเบียนใน:\", file_path)\n",
    "    recognize_license_plate(file_path)\n",
    "    \n",
    "print('---------- End ----------')\n"
   ]
  },
  {
   "cell_type": "code",
   "execution_count": null,
   "id": "7427543e-465e-49f5-8345-5093bec4095a",
   "metadata": {},
   "outputs": [],
   "source": []
  }
 ],
 "metadata": {
  "kernelspec": {
   "display_name": "Python 3 (ipykernel)",
   "language": "python",
   "name": "python3"
  },
  "language_info": {
   "codemirror_mode": {
    "name": "ipython",
    "version": 3
   },
   "file_extension": ".py",
   "mimetype": "text/x-python",
   "name": "python",
   "nbconvert_exporter": "python",
   "pygments_lexer": "ipython3",
   "version": "3.12.5"
  }
 },
 "nbformat": 4,
 "nbformat_minor": 5
}
