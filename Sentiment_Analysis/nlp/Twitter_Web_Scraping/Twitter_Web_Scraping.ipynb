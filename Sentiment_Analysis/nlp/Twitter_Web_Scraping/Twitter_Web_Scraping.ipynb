{
 "cells": [
  {
   "cell_type": "code",
   "execution_count": 1,
   "id": "852fb34d-34b2-4443-8b81-2317b2187437",
   "metadata": {},
   "outputs": [],
   "source": [
    "import numpy as np\n",
    "import pandas as pd\n",
    "from ntscraper import Nitter"
   ]
  },
  {
   "cell_type": "code",
   "execution_count": 2,
   "id": "222ad4db-1475-4fd5-89f0-e88c815d3e70",
   "metadata": {},
   "outputs": [],
   "source": [
    "#scraper = Nitter(0)"
   ]
  },
  {
   "cell_type": "code",
   "execution_count": 4,
   "id": "62452a25-64b6-42c9-b1b9-36674fb29a26",
   "metadata": {
    "scrolled": true
   },
   "outputs": [
    {
     "name": "stdout",
     "output_type": "stream",
     "text": [
      "Trying instance: https://nitter.hu\n"
     ]
    },
    {
     "name": "stderr",
     "output_type": "stream",
     "text": [
      "Testing instances: 100%|███████████████████████████████████████████████████████████████| 14/14 [00:13<00:00,  1.01it/s]\n"
     ]
    },
    {
     "name": "stdout",
     "output_type": "stream",
     "text": [
      "An unexpected error occurred with https://nitter.hu: Cannot choose from an empty sequence\n",
      "Trying instance: https://nitter.net\n"
     ]
    },
    {
     "name": "stderr",
     "output_type": "stream",
     "text": [
      "Testing instances: 100%|███████████████████████████████████████████████████████████████| 14/14 [00:13<00:00,  1.05it/s]\n"
     ]
    },
    {
     "name": "stdout",
     "output_type": "stream",
     "text": [
      "An unexpected error occurred with https://nitter.net: Cannot choose from an empty sequence\n",
      "Trying instance: https://nitter.privacydev.net\n"
     ]
    },
    {
     "name": "stderr",
     "output_type": "stream",
     "text": [
      "Testing instances: 100%|███████████████████████████████████████████████████████████████| 14/14 [00:13<00:00,  1.06it/s]\n"
     ]
    },
    {
     "name": "stdout",
     "output_type": "stream",
     "text": [
      "27-Nov-24 11:06:38 - Empty page on https://nitter.privacydev.net\n",
      "Instance https://nitter.privacydev.net failed: Invalid instance\n"
     ]
    },
    {
     "ename": "UnboundLocalError",
     "evalue": "cannot access local variable 'dat' where it is not associated with a value",
     "output_type": "error",
     "traceback": [
      "\u001b[1;31m---------------------------------------------------------------------------\u001b[0m",
      "\u001b[1;31mUnboundLocalError\u001b[0m                         Traceback (most recent call last)",
      "Cell \u001b[1;32mIn[4], line 38\u001b[0m\n\u001b[0;32m     36\u001b[0m     \u001b[38;5;28;01mreturn\u001b[39;00m dat\n\u001b[0;32m     37\u001b[0m \u001b[38;5;66;03m# เรียกใช้งานฟังก์ชัน\u001b[39;00m\n\u001b[1;32m---> 38\u001b[0m \u001b[43mfetch_tweets\u001b[49m\u001b[43m(\u001b[49m\u001b[43mquery\u001b[49m\u001b[38;5;241;43m=\u001b[39;49m\u001b[38;5;124;43m\"\u001b[39;49m\u001b[38;5;124;43mJeffBezos\u001b[39;49m\u001b[38;5;124;43m\"\u001b[39;49m\u001b[43m,\u001b[49m\u001b[43m \u001b[49m\u001b[43mmode\u001b[49m\u001b[38;5;241;43m=\u001b[39;49m\u001b[38;5;124;43m\"\u001b[39;49m\u001b[38;5;124;43muser\u001b[39;49m\u001b[38;5;124;43m\"\u001b[39;49m\u001b[43m,\u001b[49m\u001b[43m \u001b[49m\u001b[43mnumber\u001b[49m\u001b[38;5;241;43m=\u001b[39;49m\u001b[38;5;241;43m5\u001b[39;49m\u001b[43m)\u001b[49m\n",
      "Cell \u001b[1;32mIn[4], line 36\u001b[0m, in \u001b[0;36mfetch_tweets\u001b[1;34m(query, mode, number)\u001b[0m\n\u001b[0;32m     34\u001b[0m     \u001b[38;5;28;01mexcept\u001b[39;00m \u001b[38;5;167;01mException\u001b[39;00m \u001b[38;5;28;01mas\u001b[39;00m e:\n\u001b[0;32m     35\u001b[0m         \u001b[38;5;28mprint\u001b[39m(\u001b[38;5;124mf\u001b[39m\u001b[38;5;124m\"\u001b[39m\u001b[38;5;124mAn unexpected error occurred with \u001b[39m\u001b[38;5;132;01m{\u001b[39;00minstance\u001b[38;5;132;01m}\u001b[39;00m\u001b[38;5;124m: \u001b[39m\u001b[38;5;132;01m{\u001b[39;00me\u001b[38;5;132;01m}\u001b[39;00m\u001b[38;5;124m\"\u001b[39m)\n\u001b[1;32m---> 36\u001b[0m \u001b[38;5;28;01mreturn\u001b[39;00m \u001b[43mdat\u001b[49m\n",
      "\u001b[1;31mUnboundLocalError\u001b[0m: cannot access local variable 'dat' where it is not associated with a value"
     ]
    }
   ],
   "source": [
    "from ntscraper import Nitter\n",
    "\n",
    "# รายการ Nitter instances ที่เป็นไปได้\n",
    "possible_instances = [\n",
    "    \"https://nitter.hu\",\n",
    "    \"https://nitter.net\",\n",
    "    \"https://nitter.privacydev.net\",\n",
    "]\n",
    "\n",
    "# ฟังก์ชันดึงทวีต\n",
    "def fetch_tweets(query, mode, number):\n",
    "    for instance in possible_instances:\n",
    "        try:\n",
    "            print(f\"Trying instance: {instance}\")\n",
    "            \n",
    "            # สร้าง scraper object\n",
    "            scraper = Nitter(0)\n",
    "\n",
    "            # ดึงข้อมูลจาก instance ที่กำหนด\n",
    "            tweets = scraper.get_tweets(query, mode=mode, number=number, instance=instance)\n",
    "            final_tweets = []\n",
    "            for x in tweets['tweets']:\n",
    "                data = [x['link'], x['text'],x['date'],x['stats']['likes'],x['stats']['comments']]\n",
    "                final_tweets.append(data)\n",
    "            dat= pd.DataFrame(final_tweets, columns =['twitter_link','text','date','likes','comments'])\n",
    "            print(f\"Successfully fetched tweets from {instance}\")\n",
    "            \n",
    "            # แสดงผลลัพธ์\n",
    "            for tweet in tweets:\n",
    "                print(tweet)\n",
    "            break  # หยุดการวนซ้ำเมื่อ instance ทำงานได้\n",
    "        except ValueError as e:\n",
    "            print(f\"Instance {instance} failed: {e}\")\n",
    "        except Exception as e:\n",
    "            print(f\"An unexpected error occurred with {instance}: {e}\")\n",
    "    return dat\n",
    "# เรียกใช้งานฟังก์ชัน\n",
    "fetch_tweets(query=\"JeffBezos\", mode=\"user\", number=5)\n"
   ]
  },
  {
   "cell_type": "code",
   "execution_count": null,
   "id": "ab2c408b-06a5-4e8e-b482-d6eda61a8fbf",
   "metadata": {},
   "outputs": [],
   "source": [
    "tweets = scraper.get_profile_info(\"JeffBezos\")"
   ]
  },
  {
   "cell_type": "code",
   "execution_count": null,
   "id": "15ed575d-452b-4ca7-a0d9-2c8b5a9ea8ce",
   "metadata": {},
   "outputs": [],
   "source": [
    "tweets"
   ]
  },
  {
   "cell_type": "code",
   "execution_count": null,
   "id": "da5d2f6a-dd29-45d7-a3e3-ec8200ea9b71",
   "metadata": {},
   "outputs": [],
   "source": [
    "tweets['image']"
   ]
  },
  {
   "cell_type": "code",
   "execution_count": null,
   "id": "eb741d7a-2d62-4a15-a947-81b2af790584",
   "metadata": {},
   "outputs": [],
   "source": [
    "def get_tweets(name, modes, no):\n",
    "    tweets = scraper.get_tweets(name, mode = modes, number=no)\n",
    "    final_tweets = []\n",
    "    for x in tweets['tweets']:\n",
    "        data = [x['link'], x['text'],x['date'],x['stats']['likes'],x['stats']['comments']]\n",
    "        final_tweets.append(data)\n",
    "    dat= pd.DataFrame(final_tweets, columns =['twitter_link','text','date','likes','comments'])\n",
    "    return dat"
   ]
  },
  {
   "cell_type": "code",
   "execution_count": null,
   "id": "85196f3c-2058-44b4-b9b0-9a93f44453e7",
   "metadata": {},
   "outputs": [],
   "source": [
    "data = get_tweets('JeffBezos','user',6)"
   ]
  },
  {
   "cell_type": "code",
   "execution_count": null,
   "id": "d23ebe69-b031-4da4-b61d-009fbc7350d7",
   "metadata": {},
   "outputs": [],
   "source": [
    "data"
   ]
  },
  {
   "cell_type": "code",
   "execution_count": null,
   "id": "c4efb192-6e73-4b61-acf6-b9afb94214cf",
   "metadata": {},
   "outputs": [],
   "source": [
    "scraper.get_profile_info('BillGates')"
   ]
  },
  {
   "cell_type": "code",
   "execution_count": null,
   "id": "7327d6be-2e4e-414b-9eb0-eaeb96e0a71a",
   "metadata": {},
   "outputs": [],
   "source": []
  }
 ],
 "metadata": {
  "kernelspec": {
   "display_name": "Python 3 (ipykernel)",
   "language": "python",
   "name": "python3"
  },
  "language_info": {
   "codemirror_mode": {
    "name": "ipython",
    "version": 3
   },
   "file_extension": ".py",
   "mimetype": "text/x-python",
   "name": "python",
   "nbconvert_exporter": "python",
   "pygments_lexer": "ipython3",
   "version": "3.12.5"
  }
 },
 "nbformat": 4,
 "nbformat_minor": 5
}
