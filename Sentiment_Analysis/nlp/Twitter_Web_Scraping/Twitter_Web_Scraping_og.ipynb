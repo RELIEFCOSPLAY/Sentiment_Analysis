{
 "cells": [
  {
   "cell_type": "code",
   "execution_count": 1,
   "id": "852fb34d-34b2-4443-8b81-2317b2187437",
   "metadata": {},
   "outputs": [],
   "source": [
    "import pandas as pd\n",
    "from ntscraper import Nitter"
   ]
  },
  {
   "cell_type": "code",
   "execution_count": 2,
   "id": "222ad4db-1475-4fd5-89f0-e88c815d3e70",
   "metadata": {},
   "outputs": [
    {
     "name": "stderr",
     "output_type": "stream",
     "text": [
      "Testing instances: 100%|███████████████████████████████████████████████████████████████| 14/14 [00:18<00:00,  1.34s/it]\n"
     ]
    }
   ],
   "source": [
    "scraper = Nitter(0)"
   ]
  },
  {
   "cell_type": "code",
   "execution_count": 16,
   "id": "62452a25-64b6-42c9-b1b9-36674fb29a26",
   "metadata": {},
   "outputs": [
    {
     "name": "stdout",
     "output_type": "stream",
     "text": [
      "11-Dec-24 01:18:06 - Current stats for JeffBezos: 10 tweets, 0 threads...\n"
     ]
    }
   ],
   "source": [
    "tweets = scraper.get_tweets('JeffBezos', mode = 'hashtag', number=10,instance='https://nitter.privacydev.net')"
   ]
  },
  {
   "cell_type": "code",
   "execution_count": 17,
   "id": "010d9cd4-7b22-4d18-a973-d38671eaa9d7",
   "metadata": {},
   "outputs": [
    {
     "data": {
      "text/plain": [
       "{'tweets': [{'link': 'https://twitter.com/jcafesin/status/1866546352504893932#m',\n",
       "   'text': \"Murdering #CEOs is Trending.  But is it morally 'right'? https://medium.com/@author_jcafesin/murdering-oligarchs-is-trending-7c2ed1e3a4f2 #unitedhealthcare #assasination #murder #morals #values #oligarchs #xfinity #statefarm #pge #elonmusk #jeffbezos #billgates #trump #BigPharma\",\n",
       "   'user': {'name': 'J. Cafesin',\n",
       "    'username': '@jcafesin',\n",
       "    'profile_id': '1809407263',\n",
       "    'avatar': 'https://pbs.twimg.com/profile_images/1809407263/StarburstIcon_bigger.png'},\n",
       "   'date': 'Dec 10, 2024 · 6:11 PM UTC',\n",
       "   'is-retweet': False,\n",
       "   'is-pinned': False,\n",
       "   'external-link': '',\n",
       "   'replying-to': [],\n",
       "   'quoted-post': {},\n",
       "   'stats': {'comments': 0, 'retweets': 0, 'quotes': 0, 'likes': 0},\n",
       "   'pictures': [],\n",
       "   'videos': [],\n",
       "   'gifs': []},\n",
       "  {'link': 'https://twitter.com/undersealover/status/1866532690570383413#m',\n",
       "   'text': 'The last 4 years have pretty well proved that. Look how the viewership has dropped They have done it to themselves Jeff Bezos says he will try to talk Trump out of idea that the news media is an ‘enemy’ #JeffBezos #Newsmedia #DonaldTrump #ElonMusk #Amazon https://share.newsbreak.com/aa3ddvyj',\n",
       "   'user': {'name': 'John Fox',\n",
       "    'username': '@undersealover',\n",
       "    'profile_id': '681495855942209536',\n",
       "    'avatar': 'https://pbs.twimg.com/profile_images/681495855942209536/_PUNd21h_bigger.jpg'},\n",
       "   'date': 'Dec 10, 2024 · 5:17 PM UTC',\n",
       "   'is-retweet': False,\n",
       "   'is-pinned': False,\n",
       "   'external-link': '',\n",
       "   'replying-to': [],\n",
       "   'quoted-post': {},\n",
       "   'stats': {'comments': 0, 'retweets': 0, 'quotes': 0, 'likes': 0},\n",
       "   'pictures': [],\n",
       "   'videos': [],\n",
       "   'gifs': []},\n",
       "  {'link': 'https://twitter.com/UnlockWealth_1M/status/1866513607539732656#m',\n",
       "   'text': '. . . #FinancialFreedom #Money #Finance #Investing #Entrepreneur #Business #Investment #Wealth #Success #Budgeting #MotivationalQuotes #MillionaireMindset #WealthBuilding #FinancialIndependence #WealthCreation #WarrenBuffett #JeffBezos #ElonMusk #AndrewTate',\n",
       "   'user': {'name': 'unlock wealth',\n",
       "    'username': '@UnlockWealth_1M',\n",
       "    'profile_id': '1847719990893404160',\n",
       "    'avatar': 'https://pbs.twimg.com/profile_images/1847719990893404160/ZgWgdyLy_bigger.jpg'},\n",
       "   'date': 'Dec 10, 2024 · 4:01 PM UTC',\n",
       "   'is-retweet': False,\n",
       "   'is-pinned': False,\n",
       "   'external-link': '',\n",
       "   'replying-to': [],\n",
       "   'quoted-post': {},\n",
       "   'stats': {'comments': 0, 'retweets': 0, 'quotes': 0, 'likes': 0},\n",
       "   'pictures': ['https://pbs.twimg.com/media/GecwO0nWUAA-2GF.jpg'],\n",
       "   'videos': [],\n",
       "   'gifs': []},\n",
       "  {'link': 'https://twitter.com/gai_ventures_/status/1866504267902947491#m',\n",
       "   'text': 'Jeff Bezos draws a bold parallel: modern AI is like electricity - a horizontal enabling layer that improves everything it touches. Amazon is developing thousands of internal applications already underway.  #JeffBezos #Amazon #AI #ArtificialIntelligence #Tech #Innovation',\n",
       "   'user': {'name': 'gAI Ventures',\n",
       "    'username': '@gai_ventures_',\n",
       "    'profile_id': '1840604054239768576',\n",
       "    'avatar': 'https://pbs.twimg.com/profile_images/1840604054239768576/fzm-SwK1_bigger.jpg'},\n",
       "   'date': 'Dec 10, 2024 · 3:24 PM UTC',\n",
       "   'is-retweet': False,\n",
       "   'is-pinned': False,\n",
       "   'external-link': '',\n",
       "   'replying-to': [],\n",
       "   'quoted-post': {},\n",
       "   'stats': {'comments': 0, 'retweets': 0, 'quotes': 0, 'likes': 0},\n",
       "   'pictures': [],\n",
       "   'videos': ['https://video.twimg.com/ext_tw_video/1866502384555552768/pu/vid/avc1/720x1280/TBBCgqZMaQleK020.mp4?tag=12'],\n",
       "   'gifs': []},\n",
       "  {'link': 'https://twitter.com/manoramaonline/status/1866498112501522668#m',\n",
       "   'text': 'യഥാർഥ ചിന്തകള്\\u200d സീനിയോറിറ്റിയുടെ തലതിരിഞ്ഞ ക്രമത്തിലാണ്\\u200c പുറത്തു വരികയെന്നും ജെഫ്\\u200c അഭിപ്രായപ്പെടുന്നു.... #JeffBezos #Amazon #Productivity #OfficeEtiquette #OfficeMeeting  Read more at : https://www.manoramaonline.com/education/career-guru/2024/12/10/jeff-bezos-meeting-productivity-tips.html',\n",
       "   'user': {'name': 'Manorama Online',\n",
       "    'username': '@manoramaonline',\n",
       "    'profile_id': '1152137843843555329',\n",
       "    'avatar': 'https://pbs.twimg.com/profile_images/1152137843843555329/briVvgnl_bigger.png'},\n",
       "   'date': 'Dec 10, 2024 · 3:00 PM UTC',\n",
       "   'is-retweet': False,\n",
       "   'is-pinned': False,\n",
       "   'external-link': '',\n",
       "   'replying-to': [],\n",
       "   'quoted-post': {},\n",
       "   'stats': {'comments': 0, 'retweets': 0, 'quotes': 0, 'likes': 1},\n",
       "   'pictures': ['https://pbs.twimg.com/media/GecLV_HWYAAHm7k.jpg'],\n",
       "   'videos': [],\n",
       "   'gifs': []},\n",
       "  {'link': 'https://twitter.com/garlandgates/status/1866114335887520161#m',\n",
       "   'text': \"Does #JeffBezos have cojones? I'm asking for a friend.\",\n",
       "   'user': {'name': 'Garland John Gates',\n",
       "    'username': '@garlandgates',\n",
       "    'profile_id': '1866142866667413505',\n",
       "    'avatar': 'https://pbs.twimg.com/profile_images/1866142866667413505/mDsEHMph_bigger.jpg'},\n",
       "   'date': 'Dec 9, 2024 · 1:35 PM UTC',\n",
       "   'is-retweet': True,\n",
       "   'is-pinned': False,\n",
       "   'external-link': '',\n",
       "   'replying-to': [],\n",
       "   'quoted-post': {'link': 'https://twitter.com/Fernand46357857/status/1865249828562710954#m',\n",
       "    'text': '',\n",
       "    'user': {'name': 'Fernando Oliver, Esq.',\n",
       "     'username': '@Fernand46357857',\n",
       "     'profile_id': '1499606880682921984',\n",
       "     'avatar': 'https://pbs.twimg.com/profile_images/1499606880682921984/WFb0Dwoj_mini.jpg'},\n",
       "    'date': 'Dec 7, 2024 · 4:19 AM UTC',\n",
       "    'pictures': ['https://pbs.twimg.com/media/GeKy1aBXkAAsFTC.jpg'],\n",
       "    'videos': [],\n",
       "    'gifs': []},\n",
       "   'stats': {'comments': 0, 'retweets': 0, 'quotes': 0, 'likes': 1},\n",
       "   'pictures': [],\n",
       "   'videos': [],\n",
       "   'gifs': []},\n",
       "  {'link': 'https://twitter.com/DigCxO/status/1861518740916928721#m',\n",
       "   'text': 'https://digitalcxo.com/article/former-house-speaker-mccarthy-joins-tech-space-race Former House Speaker Kevin McCarthy is entering the tech space race with an institute dabbling in AI, advanced defense systems, energy and resources, and more. #ai #elonmusk #jeffbezos #kevinmccarthy #spacex #starlink',\n",
       "   'user': {'name': 'Digital CxO',\n",
       "    'username': '@DigCxO',\n",
       "    'profile_id': '1456612352019869697',\n",
       "    'avatar': 'https://pbs.twimg.com/profile_images/1456612352019869697/tiRMd6qA_bigger.jpg'},\n",
       "   'date': 'Nov 26, 2024 · 9:13 PM UTC',\n",
       "   'is-retweet': True,\n",
       "   'is-pinned': False,\n",
       "   'external-link': '',\n",
       "   'replying-to': [],\n",
       "   'quoted-post': {},\n",
       "   'stats': {'comments': 0, 'retweets': 0, 'quotes': 0, 'likes': 0},\n",
       "   'pictures': [],\n",
       "   'videos': [],\n",
       "   'gifs': []},\n",
       "  {'link': 'https://twitter.com/M3_bully/status/1866478091507548505#m',\n",
       "   'text': \"Check out AmazonCause's video! #TikTok #Amazon #JeffBezos #ElonMusk #Zuckerberg #EatTheRich #WeThePeople https://www.tiktok.com/t/ZP8NAsEPT/\",\n",
       "   'user': {'name': 'TheMerryMartyr',\n",
       "    'username': '@M3_bully',\n",
       "    'profile_id': '378800000011393540',\n",
       "    'avatar': 'https://pbs.twimg.com/profile_images/378800000011393540/9b6d6534e10521e0735d759b19c850ce_bigger.jpeg'},\n",
       "   'date': 'Dec 10, 2024 · 1:40 PM UTC',\n",
       "   'is-retweet': False,\n",
       "   'is-pinned': False,\n",
       "   'external-link': '',\n",
       "   'replying-to': [],\n",
       "   'quoted-post': {},\n",
       "   'stats': {'comments': 0, 'retweets': 0, 'quotes': 0, 'likes': 0},\n",
       "   'pictures': [],\n",
       "   'videos': [],\n",
       "   'gifs': []},\n",
       "  {'link': 'https://twitter.com/Trading_Bull_/status/1866444866693349548#m',\n",
       "   'text': '#X $X @BillGates #BillGates @Google #Google $GOOGLE @BBCWorld #BBCWorld @CNN #CNN $CNN @cnnbrk #cnnbrk @Marvel #Marvel @JeffBezos #JeffBezos @Microsoft #Microsoft @joerogan #joerogan @Forbes #Forbes $FORBES @bitgertbrise #bitgertbrise #bitgert #brise $BARSIK $GRINCH $DOG $GIGA @z',\n",
       "   'user': {'name': 'Trading, pSTAKE, BTC, Babylon',\n",
       "    'username': '@Trading_Bull_',\n",
       "    'profile_id': '1866424356575862784',\n",
       "    'avatar': 'https://pbs.twimg.com/profile_images/1866424356575862784/AFtOIM3X_bigger.jpg'},\n",
       "   'date': 'Dec 10, 2024 · 11:28 AM UTC',\n",
       "   'is-retweet': True,\n",
       "   'is-pinned': False,\n",
       "   'external-link': '',\n",
       "   'replying-to': [],\n",
       "   'quoted-post': {},\n",
       "   'stats': {'comments': 0, 'retweets': 1, 'quotes': 0, 'likes': 0},\n",
       "   'pictures': ['https://pbs.twimg.com/media/Gebxtw5XYAAG0Rh.jpg'],\n",
       "   'videos': [],\n",
       "   'gifs': []},\n",
       "  {'link': 'https://twitter.com/Trading_Bull_/status/1866444888872570935#m',\n",
       "   'text': '#X $X @BillGates #BillGates @Google #Google $GOOGLE @BBCWorld #BBCWorld @CNN #CNN $CNN @cnnbrk #cnnbrk @Marvel #Marvel @JeffBezos #JeffBezos @Microsoft #Microsoft @joerogan #joerogan @Forbes #Forbes $FORBES @bitgertbrise #bitgertbrise #bitgert #brise $BARSIK $GRINCH $DOG $GIGA @z',\n",
       "   'user': {'name': 'Trading, pSTAKE, BTC, Babylon',\n",
       "    'username': '@Trading_Bull_',\n",
       "    'profile_id': '1866424356575862784',\n",
       "    'avatar': 'https://pbs.twimg.com/profile_images/1866424356575862784/AFtOIM3X_bigger.jpg'},\n",
       "   'date': 'Dec 10, 2024 · 11:28 AM UTC',\n",
       "   'is-retweet': True,\n",
       "   'is-pinned': False,\n",
       "   'external-link': '',\n",
       "   'replying-to': [],\n",
       "   'quoted-post': {},\n",
       "   'stats': {'comments': 0, 'retweets': 1, 'quotes': 0, 'likes': 0},\n",
       "   'pictures': ['https://pbs.twimg.com/media/GebxvGeW0AA9xtj.jpg'],\n",
       "   'videos': [],\n",
       "   'gifs': []}],\n",
       " 'threads': []}"
      ]
     },
     "execution_count": 17,
     "metadata": {},
     "output_type": "execute_result"
    }
   ],
   "source": [
    "tweets"
   ]
  },
  {
   "cell_type": "code",
   "execution_count": 18,
   "id": "78abb7aa-1dee-4891-ae92-5857dcb0ce31",
   "metadata": {},
   "outputs": [],
   "source": [
    "final_tweets = []\n",
    "for x in tweets['tweets']:\n",
    "    data = [x['link'], x['text'],x['date'],x['stats']['likes'],x['stats']['comments']]\n",
    "    final_tweets.append(data)"
   ]
  },
  {
   "cell_type": "code",
   "execution_count": 19,
   "id": "247e9f5d-fdc2-484e-bdd7-ea7db3badb36",
   "metadata": {},
   "outputs": [],
   "source": [
    "dat = pd.DataFrame(final_tweets, columns =['twitter_link','text','date','likes','comments'])"
   ]
  },
  {
   "cell_type": "code",
   "execution_count": 20,
   "id": "9151789b-ddc8-4922-9d34-a9769d503573",
   "metadata": {},
   "outputs": [
    {
     "data": {
      "text/html": [
       "<div>\n",
       "<style scoped>\n",
       "    .dataframe tbody tr th:only-of-type {\n",
       "        vertical-align: middle;\n",
       "    }\n",
       "\n",
       "    .dataframe tbody tr th {\n",
       "        vertical-align: top;\n",
       "    }\n",
       "\n",
       "    .dataframe thead th {\n",
       "        text-align: right;\n",
       "    }\n",
       "</style>\n",
       "<table border=\"1\" class=\"dataframe\">\n",
       "  <thead>\n",
       "    <tr style=\"text-align: right;\">\n",
       "      <th></th>\n",
       "      <th>twitter_link</th>\n",
       "      <th>text</th>\n",
       "      <th>date</th>\n",
       "      <th>likes</th>\n",
       "      <th>comments</th>\n",
       "    </tr>\n",
       "  </thead>\n",
       "  <tbody>\n",
       "    <tr>\n",
       "      <th>0</th>\n",
       "      <td>https://twitter.com/jcafesin/status/1866546352...</td>\n",
       "      <td>Murdering #CEOs is Trending.  But is it morall...</td>\n",
       "      <td>Dec 10, 2024 · 6:11 PM UTC</td>\n",
       "      <td>0</td>\n",
       "      <td>0</td>\n",
       "    </tr>\n",
       "    <tr>\n",
       "      <th>1</th>\n",
       "      <td>https://twitter.com/undersealover/status/18665...</td>\n",
       "      <td>The last 4 years have pretty well proved that....</td>\n",
       "      <td>Dec 10, 2024 · 5:17 PM UTC</td>\n",
       "      <td>0</td>\n",
       "      <td>0</td>\n",
       "    </tr>\n",
       "    <tr>\n",
       "      <th>2</th>\n",
       "      <td>https://twitter.com/UnlockWealth_1M/status/186...</td>\n",
       "      <td>. . . #FinancialFreedom #Money #Finance #Inves...</td>\n",
       "      <td>Dec 10, 2024 · 4:01 PM UTC</td>\n",
       "      <td>0</td>\n",
       "      <td>0</td>\n",
       "    </tr>\n",
       "    <tr>\n",
       "      <th>3</th>\n",
       "      <td>https://twitter.com/gai_ventures_/status/18665...</td>\n",
       "      <td>Jeff Bezos draws a bold parallel: modern AI is...</td>\n",
       "      <td>Dec 10, 2024 · 3:24 PM UTC</td>\n",
       "      <td>0</td>\n",
       "      <td>0</td>\n",
       "    </tr>\n",
       "    <tr>\n",
       "      <th>4</th>\n",
       "      <td>https://twitter.com/manoramaonline/status/1866...</td>\n",
       "      <td>യഥാർഥ ചിന്തകള്‍ സീനിയോറിറ്റിയുടെ തലതിരിഞ്ഞ ക്ര...</td>\n",
       "      <td>Dec 10, 2024 · 3:00 PM UTC</td>\n",
       "      <td>1</td>\n",
       "      <td>0</td>\n",
       "    </tr>\n",
       "    <tr>\n",
       "      <th>5</th>\n",
       "      <td>https://twitter.com/garlandgates/status/186611...</td>\n",
       "      <td>Does #JeffBezos have cojones? I'm asking for a...</td>\n",
       "      <td>Dec 9, 2024 · 1:35 PM UTC</td>\n",
       "      <td>1</td>\n",
       "      <td>0</td>\n",
       "    </tr>\n",
       "    <tr>\n",
       "      <th>6</th>\n",
       "      <td>https://twitter.com/DigCxO/status/186151874091...</td>\n",
       "      <td>https://digitalcxo.com/article/former-house-sp...</td>\n",
       "      <td>Nov 26, 2024 · 9:13 PM UTC</td>\n",
       "      <td>0</td>\n",
       "      <td>0</td>\n",
       "    </tr>\n",
       "    <tr>\n",
       "      <th>7</th>\n",
       "      <td>https://twitter.com/M3_bully/status/1866478091...</td>\n",
       "      <td>Check out AmazonCause's video! #TikTok #Amazon...</td>\n",
       "      <td>Dec 10, 2024 · 1:40 PM UTC</td>\n",
       "      <td>0</td>\n",
       "      <td>0</td>\n",
       "    </tr>\n",
       "    <tr>\n",
       "      <th>8</th>\n",
       "      <td>https://twitter.com/Trading_Bull_/status/18664...</td>\n",
       "      <td>#X $X @BillGates #BillGates @Google #Google $G...</td>\n",
       "      <td>Dec 10, 2024 · 11:28 AM UTC</td>\n",
       "      <td>0</td>\n",
       "      <td>0</td>\n",
       "    </tr>\n",
       "    <tr>\n",
       "      <th>9</th>\n",
       "      <td>https://twitter.com/Trading_Bull_/status/18664...</td>\n",
       "      <td>#X $X @BillGates #BillGates @Google #Google $G...</td>\n",
       "      <td>Dec 10, 2024 · 11:28 AM UTC</td>\n",
       "      <td>0</td>\n",
       "      <td>0</td>\n",
       "    </tr>\n",
       "  </tbody>\n",
       "</table>\n",
       "</div>"
      ],
      "text/plain": [
       "                                        twitter_link  \\\n",
       "0  https://twitter.com/jcafesin/status/1866546352...   \n",
       "1  https://twitter.com/undersealover/status/18665...   \n",
       "2  https://twitter.com/UnlockWealth_1M/status/186...   \n",
       "3  https://twitter.com/gai_ventures_/status/18665...   \n",
       "4  https://twitter.com/manoramaonline/status/1866...   \n",
       "5  https://twitter.com/garlandgates/status/186611...   \n",
       "6  https://twitter.com/DigCxO/status/186151874091...   \n",
       "7  https://twitter.com/M3_bully/status/1866478091...   \n",
       "8  https://twitter.com/Trading_Bull_/status/18664...   \n",
       "9  https://twitter.com/Trading_Bull_/status/18664...   \n",
       "\n",
       "                                                text  \\\n",
       "0  Murdering #CEOs is Trending.  But is it morall...   \n",
       "1  The last 4 years have pretty well proved that....   \n",
       "2  . . . #FinancialFreedom #Money #Finance #Inves...   \n",
       "3  Jeff Bezos draws a bold parallel: modern AI is...   \n",
       "4  യഥാർഥ ചിന്തകള്‍ സീനിയോറിറ്റിയുടെ തലതിരിഞ്ഞ ക്ര...   \n",
       "5  Does #JeffBezos have cojones? I'm asking for a...   \n",
       "6  https://digitalcxo.com/article/former-house-sp...   \n",
       "7  Check out AmazonCause's video! #TikTok #Amazon...   \n",
       "8  #X $X @BillGates #BillGates @Google #Google $G...   \n",
       "9  #X $X @BillGates #BillGates @Google #Google $G...   \n",
       "\n",
       "                          date  likes  comments  \n",
       "0   Dec 10, 2024 · 6:11 PM UTC      0         0  \n",
       "1   Dec 10, 2024 · 5:17 PM UTC      0         0  \n",
       "2   Dec 10, 2024 · 4:01 PM UTC      0         0  \n",
       "3   Dec 10, 2024 · 3:24 PM UTC      0         0  \n",
       "4   Dec 10, 2024 · 3:00 PM UTC      1         0  \n",
       "5    Dec 9, 2024 · 1:35 PM UTC      1         0  \n",
       "6   Nov 26, 2024 · 9:13 PM UTC      0         0  \n",
       "7   Dec 10, 2024 · 1:40 PM UTC      0         0  \n",
       "8  Dec 10, 2024 · 11:28 AM UTC      0         0  \n",
       "9  Dec 10, 2024 · 11:28 AM UTC      0         0  "
      ]
     },
     "execution_count": 20,
     "metadata": {},
     "output_type": "execute_result"
    }
   ],
   "source": [
    "dat"
   ]
  },
  {
   "cell_type": "code",
   "execution_count": 8,
   "id": "19a38a8c-f471-463a-81c9-b356f17f40a1",
   "metadata": {},
   "outputs": [
    {
     "name": "stdout",
     "output_type": "stream",
     "text": [
      "11-Dec-24 01:17:43 - No instance specified, using random instance https://nitter.privacydev.net\n"
     ]
    }
   ],
   "source": [
    "tweets = scraper.get_profile_info('JeffBezos')"
   ]
  },
  {
   "cell_type": "code",
   "execution_count": 9,
   "id": "15ed575d-452b-4ca7-a0d9-2c8b5a9ea8ce",
   "metadata": {},
   "outputs": [
    {
     "data": {
      "text/plain": [
       "{'image': 'https://pbs.twimg.com/profile_images/1591558315254890500/ETIHb4Nl_400x400.jpg',\n",
       " 'name': 'Jeff Bezos',\n",
       " 'username': '@JeffBezos',\n",
       " 'id': '15506669',\n",
       " 'bio': 'Amazon. Blue Origin. Washington Post. Bezos Earth Fund. Bezos Academy.',\n",
       " 'location': '',\n",
       " 'website': 'https://hoo.be/jeffbezos',\n",
       " 'joined': '10:38 PM - 20 Jul 2008',\n",
       " 'stats': {'tweets': 401,\n",
       "  'following': 408,\n",
       "  'followers': 6508497,\n",
       "  'likes': 183,\n",
       "  'media': 0}}"
      ]
     },
     "execution_count": 9,
     "metadata": {},
     "output_type": "execute_result"
    }
   ],
   "source": [
    "tweets"
   ]
  },
  {
   "cell_type": "code",
   "execution_count": 10,
   "id": "da5d2f6a-dd29-45d7-a3e3-ec8200ea9b71",
   "metadata": {},
   "outputs": [
    {
     "data": {
      "text/plain": [
       "'https://pbs.twimg.com/profile_images/1591558315254890500/ETIHb4Nl_400x400.jpg'"
      ]
     },
     "execution_count": 10,
     "metadata": {},
     "output_type": "execute_result"
    }
   ],
   "source": [
    "tweets['image']"
   ]
  },
  {
   "cell_type": "code",
   "execution_count": 11,
   "id": "eb741d7a-2d62-4a15-a947-81b2af790584",
   "metadata": {},
   "outputs": [],
   "source": [
    "def get_tweets(name, modes, no):\n",
    "    tweets = scraper.get_tweets(name, mode = modes, number=no)\n",
    "    final_tweets = []\n",
    "    for x in tweets['tweets']:\n",
    "        data = [x['link'], x['text'],x['date'],x['stats']['likes'],x['stats']['comments']]\n",
    "        final_tweets.append(data)\n",
    "    dat= pd.DataFrame(final_tweets, columns =['twitter_link','text','date','likes','comments'])\n",
    "    return dat"
   ]
  },
  {
   "cell_type": "code",
   "execution_count": 12,
   "id": "85196f3c-2058-44b4-b9b0-9a93f44453e7",
   "metadata": {},
   "outputs": [
    {
     "name": "stdout",
     "output_type": "stream",
     "text": [
      "11-Dec-24 01:17:48 - No instance specified, using random instance https://nitter.privacydev.net\n",
      "11-Dec-24 01:17:53 - Current stats for JeffBezos: 6 tweets, 0 threads...\n"
     ]
    }
   ],
   "source": [
    "data = get_tweets('JeffBezos','user',6)"
   ]
  },
  {
   "cell_type": "code",
   "execution_count": 13,
   "id": "d23ebe69-b031-4da4-b61d-009fbc7350d7",
   "metadata": {},
   "outputs": [
    {
     "data": {
      "text/html": [
       "<div>\n",
       "<style scoped>\n",
       "    .dataframe tbody tr th:only-of-type {\n",
       "        vertical-align: middle;\n",
       "    }\n",
       "\n",
       "    .dataframe tbody tr th {\n",
       "        vertical-align: top;\n",
       "    }\n",
       "\n",
       "    .dataframe thead th {\n",
       "        text-align: right;\n",
       "    }\n",
       "</style>\n",
       "<table border=\"1\" class=\"dataframe\">\n",
       "  <thead>\n",
       "    <tr style=\"text-align: right;\">\n",
       "      <th></th>\n",
       "      <th>twitter_link</th>\n",
       "      <th>text</th>\n",
       "      <th>date</th>\n",
       "      <th>likes</th>\n",
       "      <th>comments</th>\n",
       "    </tr>\n",
       "  </thead>\n",
       "  <tbody>\n",
       "    <tr>\n",
       "      <th>0</th>\n",
       "      <td>https://twitter.com/JeffBezos/status/185418444...</td>\n",
       "      <td>Big congratulations to our 45th and now 47th P...</td>\n",
       "      <td>Nov 6, 2024 · 3:29 PM UTC</td>\n",
       "      <td>279674</td>\n",
       "      <td>17593</td>\n",
       "    </tr>\n",
       "    <tr>\n",
       "      <th>1</th>\n",
       "      <td>https://twitter.com/JeffBezos/status/181231578...</td>\n",
       "      <td>Our former President showed tremendous grace a...</td>\n",
       "      <td>Jul 14, 2024 · 2:38 AM UTC</td>\n",
       "      <td>215501</td>\n",
       "      <td>12270</td>\n",
       "    </tr>\n",
       "    <tr>\n",
       "      <th>2</th>\n",
       "      <td>https://twitter.com/SenBillNelson/status/17179...</td>\n",
       "      <td>Impressive visit to the @blueorigin Huntsville...</td>\n",
       "      <td>Oct 27, 2023 · 2:00 PM UTC</td>\n",
       "      <td>5836</td>\n",
       "      <td>3330</td>\n",
       "    </tr>\n",
       "    <tr>\n",
       "      <th>3</th>\n",
       "      <td>https://twitter.com/torybruno/status/166661245...</td>\n",
       "      <td>Nominal run!</td>\n",
       "      <td>Jun 8, 2023 · 1:05 AM UTC</td>\n",
       "      <td>4295</td>\n",
       "      <td>1326</td>\n",
       "    </tr>\n",
       "    <tr>\n",
       "      <th>4</th>\n",
       "      <td>https://twitter.com/JeffBezos/status/165957630...</td>\n",
       "      <td>Honored to be on this journey with @NASA to la...</td>\n",
       "      <td>May 19, 2023 · 3:06 PM UTC</td>\n",
       "      <td>14581</td>\n",
       "      <td>6087</td>\n",
       "    </tr>\n",
       "    <tr>\n",
       "      <th>5</th>\n",
       "      <td>https://twitter.com/JeffBezos/status/162522482...</td>\n",
       "      <td>Big milestone. Kudos and congrats to the whole...</td>\n",
       "      <td>Feb 13, 2023 · 8:06 PM UTC</td>\n",
       "      <td>5707</td>\n",
       "      <td>4767</td>\n",
       "    </tr>\n",
       "  </tbody>\n",
       "</table>\n",
       "</div>"
      ],
      "text/plain": [
       "                                        twitter_link  \\\n",
       "0  https://twitter.com/JeffBezos/status/185418444...   \n",
       "1  https://twitter.com/JeffBezos/status/181231578...   \n",
       "2  https://twitter.com/SenBillNelson/status/17179...   \n",
       "3  https://twitter.com/torybruno/status/166661245...   \n",
       "4  https://twitter.com/JeffBezos/status/165957630...   \n",
       "5  https://twitter.com/JeffBezos/status/162522482...   \n",
       "\n",
       "                                                text  \\\n",
       "0  Big congratulations to our 45th and now 47th P...   \n",
       "1  Our former President showed tremendous grace a...   \n",
       "2  Impressive visit to the @blueorigin Huntsville...   \n",
       "3                                       Nominal run!   \n",
       "4  Honored to be on this journey with @NASA to la...   \n",
       "5  Big milestone. Kudos and congrats to the whole...   \n",
       "\n",
       "                         date   likes  comments  \n",
       "0   Nov 6, 2024 · 3:29 PM UTC  279674     17593  \n",
       "1  Jul 14, 2024 · 2:38 AM UTC  215501     12270  \n",
       "2  Oct 27, 2023 · 2:00 PM UTC    5836      3330  \n",
       "3   Jun 8, 2023 · 1:05 AM UTC    4295      1326  \n",
       "4  May 19, 2023 · 3:06 PM UTC   14581      6087  \n",
       "5  Feb 13, 2023 · 8:06 PM UTC    5707      4767  "
      ]
     },
     "execution_count": 13,
     "metadata": {},
     "output_type": "execute_result"
    }
   ],
   "source": [
    "data"
   ]
  },
  {
   "cell_type": "code",
   "execution_count": 14,
   "id": "c4efb192-6e73-4b61-acf6-b9afb94214cf",
   "metadata": {},
   "outputs": [
    {
     "name": "stdout",
     "output_type": "stream",
     "text": [
      "11-Dec-24 01:17:53 - No instance specified, using random instance https://nitter.privacydev.net\n"
     ]
    },
    {
     "data": {
      "text/plain": [
       "{'image': 'https://pbs.twimg.com/profile_images/1674815862879178752/nTGMV1Eo_400x400.jpg',\n",
       " 'name': 'Bill Gates',\n",
       " 'username': '@BillGates',\n",
       " 'id': '50393960',\n",
       " 'bio': \"Sharing things I'm learning through my foundation work and other interests.\",\n",
       " 'location': 'Seattle, WA',\n",
       " 'website': 'https://gatesnot.es/blog',\n",
       " 'joined': '6:44 PM - 24 Jun 2009',\n",
       " 'stats': {'tweets': 4482,\n",
       "  'following': 584,\n",
       "  'followers': 65926070,\n",
       "  'likes': 557,\n",
       "  'media': 0}}"
      ]
     },
     "execution_count": 14,
     "metadata": {},
     "output_type": "execute_result"
    }
   ],
   "source": [
    "scraper.get_profile_info('BillGates')"
   ]
  },
  {
   "cell_type": "code",
   "execution_count": null,
   "id": "7327d6be-2e4e-414b-9eb0-eaeb96e0a71a",
   "metadata": {},
   "outputs": [],
   "source": []
  }
 ],
 "metadata": {
  "kernelspec": {
   "display_name": "Python 3 (ipykernel)",
   "language": "python",
   "name": "python3"
  },
  "language_info": {
   "codemirror_mode": {
    "name": "ipython",
    "version": 3
   },
   "file_extension": ".py",
   "mimetype": "text/x-python",
   "name": "python",
   "nbconvert_exporter": "python",
   "pygments_lexer": "ipython3",
   "version": "3.12.5"
  }
 },
 "nbformat": 4,
 "nbformat_minor": 5
}
