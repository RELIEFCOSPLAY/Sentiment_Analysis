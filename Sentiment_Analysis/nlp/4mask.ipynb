{
 "cells": [
  {
   "cell_type": "code",
   "execution_count": 2,
   "id": "aad41a01-3f4c-448d-9d42-4a1a4db8aa99",
   "metadata": {},
   "outputs": [
    {
     "name": "stdout",
     "output_type": "stream",
     "text": [
      "Result of Horizontal Mask: 0\n",
      "Result of +45° Mask: 3\n",
      "Result of Vertical Mask: 6\n",
      "Result of -45° Mask: 42\n"
     ]
    }
   ],
   "source": [
    "import numpy as np\n",
    "\n",
    "# Define the masks\n",
    "horizontal_mask = np.array([[-1, -1, -1], [2, 2, 2], [-1, -1, -1]])\n",
    "plus45_mask = np.array([[-1, -1, 2], [-1, 2, -1], [2, -1, -1]])\n",
    "vertical_mask = np.array([[-1, 2, -1], [-1, 2, -1], [-1, 2, -1]])\n",
    "minus45_mask = np.array([[2, -1, -1], [-1, 2, -1], [-1, -1, 2]])\n",
    "\n",
    "# Define the image\n",
    "image_a = np.array([[9, 3, 4], [1, 10, 2], [0, 2, 8]])\n",
    "\n",
    "# Function to perform convolution\n",
    "def apply_mask(image, mask):\n",
    "    return np.sum(image * mask)\n",
    "\n",
    "# Apply each mask to the image\n",
    "result_horizontal = apply_mask(image_a, horizontal_mask)\n",
    "result_plus45 = apply_mask(image_a, plus45_mask)\n",
    "result_vertical = apply_mask(image_a, vertical_mask)\n",
    "result_minus45 = apply_mask(image_a, minus45_mask)\n",
    "\n",
    "# Output the results\n",
    "print(\"Result of Horizontal Mask:\", result_horizontal)\n",
    "print(\"Result of +45° Mask:\", result_plus45)\n",
    "print(\"Result of Vertical Mask:\", result_vertical)\n",
    "print(\"Result of -45° Mask:\", result_minus45)\n"
   ]
  },
  {
   "cell_type": "code",
   "execution_count": 5,
   "id": "b60e3a74-fa26-4074-beb3-0e2cb20bfa85",
   "metadata": {},
   "outputs": [
    {
     "data": {
      "text/plain": [
       "array([[ 34, -14,  -7],\n",
       "       [-16,  42, -14],\n",
       "       [-13, -14,  32]])"
      ]
     },
     "execution_count": 5,
     "metadata": {},
     "output_type": "execute_result"
    }
   ],
   "source": [
    "import numpy as np\n",
    "import matplotlib.pyplot as plt\n",
    "from scipy.signal import convolve2d\n",
    "from matplotlib import cm\n",
    "\n",
    "# Define the image\n",
    "image_a = np.array([[9, 3, 4], \n",
    "                    [1, 10, 2], \n",
    "                    [0, 2, 8]])\n",
    "\n",
    "# Define the mask\n",
    "\n",
    "horizontal_mask = np.array([[-1, -1, -1], \n",
    "                            [2, 2, 2], \n",
    "                            [-1, -1, -1]])\n",
    "\n",
    "plus45_mask = np.array([[-1, -1, 2], \n",
    "                        [-1, 2, -1], \n",
    "                        [2, -1, -1]])\n",
    "\n",
    "vertical_mask = np.array([[-1, 2, -1], \n",
    "                          [-1, 2, -1], \n",
    "                          [-1, 2, -1]])\n",
    "\n",
    "minus45_mask = np.array([[2, -1, -1], \n",
    "                         [-1, 2, -1], \n",
    "                         [-1, -1, 2]])\n",
    "\n",
    "# Apply 2D convolution (same padding)\n",
    "tmphorizontal = convolve2d(image_a, horizontal_mask, mode='same')\n",
    "tmphorizontal\n",
    "\n",
    "tmpplus45 = convolve2d(image_a, plus45_mask, mode='same')\n",
    "tmpplus45\n",
    "\n",
    "tmpvertical = convolve2d(image_a, vertical_mask, mode='same')\n",
    "tmpvertical\n",
    "\n",
    "tmpminus45 = convolve2d(image_a, minus45_mask, mode='same')\n",
    "tmpminus45\n"
   ]
  },
  {
   "cell_type": "code",
   "execution_count": 10,
   "id": "f22e362d-6279-41ca-88a2-a8b8b6c885f8",
   "metadata": {},
   "outputs": [
    {
     "name": "stdout",
     "output_type": "stream",
     "text": [
      "Horizontal Mask Result:\n",
      " [[-1 14 10]\n",
      " [ 5  1  9]\n",
      " [ 5  4 -8]]\n",
      "\n",
      "45-Degree Mask Result:\n",
      " [[ -4 -19  28]\n",
      " [-13  37 -12]\n",
      " [ 26  -8  -8]]\n",
      "\n",
      "Vertical Mask Result:\n",
      " [[-4  2 16]\n",
      " [ 8 -5 18]\n",
      " [ 5  4  1]]\n",
      "\n",
      "Negative 45-Degree Mask Result:\n",
      " [[ 17 -10   7]\n",
      " [-16   1  -9]\n",
      " [  5 -17  13]]\n"
     ]
    }
   ],
   "source": [
    "import numpy as np\n",
    "import matplotlib.pyplot as plt\n",
    "from scipy.signal import convolve2d\n",
    "\n",
    "# Define the image\n",
    "image_a = np.array([[9, 3, 4], \n",
    "                    [1, 10, 2], \n",
    "                    [0, 2, 8]])\n",
    "\n",
    "image_b = np.array([[2, 1, 9], \n",
    "                    [0, 7, 3], \n",
    "                    [6, 0, 1]])\n",
    "\n",
    "# Define the masks\n",
    "horizontal_mask = np.array([[-1, -1, -1], \n",
    "                            [2, 2, 2], \n",
    "                            [-1, -1, -1]])\n",
    "\n",
    "plus45_mask = np.array([[-1, -1, 2], \n",
    "                        [-1, 2, -1], \n",
    "                        [2, -1, -1]])\n",
    "\n",
    "vertical_mask = np.array([[-1, 2, -1], \n",
    "                          [-1, 2, -1], \n",
    "                          [-1, 2, -1]])\n",
    "\n",
    "minus45_mask = np.array([[2, -1, -1], \n",
    "                         [-1, 2, -1], \n",
    "                         [-1, -1, 2]])\n",
    "\n",
    "# Apply 2D convolution (same padding)\n",
    "tmphorizontal = convolve2d(image_b, horizontal_mask, mode='same')\n",
    "tmpplus45 = convolve2d(image_b, plus45_mask, mode='same')\n",
    "tmpvertical = convolve2d(image_b, vertical_mask, mode='same')\n",
    "tmpminus45 = convolve2d(image_b, minus45_mask, mode='same')\n",
    "\n",
    "# Naming the results\n",
    "horizontal_result = tmphorizontal\n",
    "plus45_result = tmpplus45\n",
    "vertical_result = tmpvertical\n",
    "minus45_result = tmpminus45\n",
    "\n",
    "# Print all results\n",
    "print(\"Horizontal Mask Result:\\n\", horizontal_result)\n",
    "print(\"\\n45-Degree Mask Result:\\n\", plus45_result)\n",
    "print(\"\\nVertical Mask Result:\\n\", vertical_result)\n",
    "print(\"\\nNegative 45-Degree Mask Result:\\n\", minus45_result)\n"
   ]
  },
  {
   "cell_type": "code",
   "execution_count": 8,
   "id": "e4b2d491-5d6f-42c2-8dc7-eee034257c3a",
   "metadata": {},
   "outputs": [
    {
     "data": {
      "text/plain": [
       "13"
      ]
     },
     "execution_count": 8,
     "metadata": {},
     "output_type": "execute_result"
    }
   ],
   "source": [
    "18+6+(-1)+(-10)"
   ]
  },
  {
   "cell_type": "code",
   "execution_count": null,
   "id": "99327252-fe79-46a9-8712-f808a0499a64",
   "metadata": {},
   "outputs": [],
   "source": []
  }
 ],
 "metadata": {
  "kernelspec": {
   "display_name": "Python 3 (ipykernel)",
   "language": "python",
   "name": "python3"
  },
  "language_info": {
   "codemirror_mode": {
    "name": "ipython",
    "version": 3
   },
   "file_extension": ".py",
   "mimetype": "text/x-python",
   "name": "python",
   "nbconvert_exporter": "python",
   "pygments_lexer": "ipython3",
   "version": "3.12.5"
  }
 },
 "nbformat": 4,
 "nbformat_minor": 5
}
