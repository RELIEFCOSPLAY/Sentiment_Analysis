{
 "cells": [
  {
   "cell_type": "code",
   "execution_count": null,
   "id": "6e4c1305-60dd-4a4c-b054-dde5f03424f9",
   "metadata": {},
   "outputs": [],
   "source": []
  },
  {
   "cell_type": "code",
   "execution_count": 1,
   "id": "95da80e1-8ddd-4e2c-90b4-861149248c33",
   "metadata": {},
   "outputs": [
    {
     "name": "stdout",
     "output_type": "stream",
     "text": [
      "7.1.1\n"
     ]
    }
   ],
   "source": [
    "import pysnmp\n",
    "print(pysnmp.__version__)\n"
   ]
  },
  {
   "cell_type": "code",
   "execution_count": 4,
   "id": "df6aae58-5a51-4e99-b513-adb0f8bdb3b7",
   "metadata": {},
   "outputs": [
    {
     "ename": "NameError",
     "evalue": "name 'getCmd' is not defined",
     "output_type": "error",
     "traceback": [
      "\u001b[1;31m---------------------------------------------------------------------------\u001b[0m",
      "\u001b[1;31mNameError\u001b[0m                                 Traceback (most recent call last)",
      "Cell \u001b[1;32mIn[4], line 44\u001b[0m\n\u001b[0;32m     41\u001b[0m router_ip \u001b[38;5;241m=\u001b[39m \u001b[38;5;124m'\u001b[39m\u001b[38;5;124m192.168.1.1\u001b[39m\u001b[38;5;124m'\u001b[39m  \u001b[38;5;66;03m# Replace with the actual router IP\u001b[39;00m\n\u001b[0;32m     42\u001b[0m community_string \u001b[38;5;241m=\u001b[39m \u001b[38;5;124m'\u001b[39m\u001b[38;5;124mpublic\u001b[39m\u001b[38;5;124m'\u001b[39m  \u001b[38;5;66;03m# Replace with the actual SNMP community string\u001b[39;00m\n\u001b[1;32m---> 44\u001b[0m \u001b[43mget_router_name\u001b[49m\u001b[43m(\u001b[49m\u001b[43mrouter_ip\u001b[49m\u001b[43m,\u001b[49m\u001b[43m \u001b[49m\u001b[43mcommunity_string\u001b[49m\u001b[43m)\u001b[49m\n\u001b[0;32m     45\u001b[0m get_interface_names(router_ip, community_string)\n\u001b[0;32m     46\u001b[0m get_bandwidth(router_ip, community_string)\n",
      "Cell \u001b[1;32mIn[4], line 27\u001b[0m, in \u001b[0;36mget_router_name\u001b[1;34m(ip, community)\u001b[0m\n\u001b[0;32m     25\u001b[0m \u001b[38;5;28;01mdef\u001b[39;00m \u001b[38;5;21mget_router_name\u001b[39m(ip, community):\n\u001b[0;32m     26\u001b[0m     oid \u001b[38;5;241m=\u001b[39m \u001b[38;5;124m'\u001b[39m\u001b[38;5;124m1.3.6.1.2.1.1.5.0\u001b[39m\u001b[38;5;124m'\u001b[39m\n\u001b[1;32m---> 27\u001b[0m     router_name \u001b[38;5;241m=\u001b[39m \u001b[43msnmp_get\u001b[49m\u001b[43m(\u001b[49m\u001b[43moid\u001b[49m\u001b[43m,\u001b[49m\u001b[43m \u001b[49m\u001b[43mip\u001b[49m\u001b[43m,\u001b[49m\u001b[43m \u001b[49m\u001b[43mcommunity\u001b[49m\u001b[43m)\u001b[49m\n\u001b[0;32m     28\u001b[0m     \u001b[38;5;28mprint\u001b[39m(\u001b[38;5;124m\"\u001b[39m\u001b[38;5;124mRouter Name:\u001b[39m\u001b[38;5;124m\"\u001b[39m, router_name)\n",
      "Cell \u001b[1;32mIn[4], line 4\u001b[0m, in \u001b[0;36msnmp_get\u001b[1;34m(oid, ip, community)\u001b[0m\n\u001b[0;32m      3\u001b[0m \u001b[38;5;28;01mdef\u001b[39;00m \u001b[38;5;21msnmp_get\u001b[39m(oid, ip, community):\n\u001b[1;32m----> 4\u001b[0m     iterator \u001b[38;5;241m=\u001b[39m \u001b[43mgetCmd\u001b[49m(\n\u001b[0;32m      5\u001b[0m         SnmpEngine(),\n\u001b[0;32m      6\u001b[0m         CommunityData(community, mpModel\u001b[38;5;241m=\u001b[39m\u001b[38;5;241m1\u001b[39m),  \u001b[38;5;66;03m# SNMPv2c\u001b[39;00m\n\u001b[0;32m      7\u001b[0m         UdpTransportTarget((ip, \u001b[38;5;241m161\u001b[39m)),\n\u001b[0;32m      8\u001b[0m         ContextData(),\n\u001b[0;32m      9\u001b[0m         ObjectType(ObjectIdentity(oid))\n\u001b[0;32m     10\u001b[0m     )\n\u001b[0;32m     12\u001b[0m     error_indication, error_status, error_index, var_binds \u001b[38;5;241m=\u001b[39m \u001b[38;5;28mnext\u001b[39m(iterator)\n\u001b[0;32m     14\u001b[0m     \u001b[38;5;28;01mif\u001b[39;00m error_indication:\n",
      "\u001b[1;31mNameError\u001b[0m: name 'getCmd' is not defined"
     ]
    }
   ],
   "source": [
    "from pysnmp.hlapi import *\n",
    "\n",
    "def snmp_get(oid, ip, community):\n",
    "    iterator = getCmd(\n",
    "        SnmpEngine(),\n",
    "        CommunityData(community, mpModel=1),  # SNMPv2c\n",
    "        UdpTransportTarget((ip, 161)),\n",
    "        ContextData(),\n",
    "        ObjectType(ObjectIdentity(oid))\n",
    "    )\n",
    "\n",
    "    error_indication, error_status, error_index, var_binds = next(iterator)\n",
    "\n",
    "    if error_indication:\n",
    "        print(error_indication)\n",
    "    elif error_status:\n",
    "        print('%s at %s' % (\n",
    "            error_status.prettyPrint(),\n",
    "            error_index and var_binds[int(error_index) - 1][0] or '?'\n",
    "        ))\n",
    "    else:\n",
    "        for var_bind in var_binds:\n",
    "            return var_bind.prettyPrint()\n",
    "\n",
    "def get_router_name(ip, community):\n",
    "    oid = '1.3.6.1.2.1.1.5.0'\n",
    "    router_name = snmp_get(oid, ip, community)\n",
    "    print(\"Router Name:\", router_name)\n",
    "\n",
    "def get_interface_names(ip, community):\n",
    "    oid = '1.3.6.1.2.1.2.2.1.2'\n",
    "    interface_names = snmp_get(oid, ip, community)\n",
    "    print(\"Interface Names:\", interface_names)\n",
    "\n",
    "def get_bandwidth(ip, community):\n",
    "    oid = '1.3.6.1.2.1.2.2.1.5'\n",
    "    bandwidth = snmp_get(oid, ip, community)\n",
    "    print(\"Interface Bandwidth:\", bandwidth)\n",
    "\n",
    "# Example usage\n",
    "router_ip = '192.168.1.1'  # Replace with the actual router IP\n",
    "community_string = 'public'  # Replace with the actual SNMP community string\n",
    "\n",
    "get_router_name(router_ip, community_string)\n",
    "get_interface_names(router_ip, community_string)\n",
    "get_bandwidth(router_ip, community_string)\n"
   ]
  },
  {
   "cell_type": "code",
   "execution_count": null,
   "id": "a0bb38e2-4d3c-4497-acbd-521fd4f1ab45",
   "metadata": {},
   "outputs": [],
   "source": []
  }
 ],
 "metadata": {
  "kernelspec": {
   "display_name": "Python 3 (ipykernel)",
   "language": "python",
   "name": "python3"
  },
  "language_info": {
   "codemirror_mode": {
    "name": "ipython",
    "version": 3
   },
   "file_extension": ".py",
   "mimetype": "text/x-python",
   "name": "python",
   "nbconvert_exporter": "python",
   "pygments_lexer": "ipython3",
   "version": "3.12.5"
  }
 },
 "nbformat": 4,
 "nbformat_minor": 5
}
