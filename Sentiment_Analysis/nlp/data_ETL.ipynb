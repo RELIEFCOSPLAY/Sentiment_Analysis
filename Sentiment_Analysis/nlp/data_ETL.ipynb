{
 "cells": [
  {
   "cell_type": "code",
   "execution_count": 18,
   "id": "ad71c9f2-35ed-4d7f-b893-acbf29106a6a",
   "metadata": {},
   "outputs": [],
   "source": [
    "import requests # to pull data from sources using APIs - extract\n",
    "import pandas as pd # for tabular type of data like .csv, excel, etc. –"
   ]
  },
  {
   "cell_type": "code",
   "execution_count": 20,
   "id": "dded6cc6-e664-4775-8c19-09bac9086cd1",
   "metadata": {},
   "outputs": [
    {
     "name": "stdout",
     "output_type": "stream",
     "text": [
      "Collecting Flask-SQLAlchemy\n",
      "  Downloading flask_sqlalchemy-3.1.1-py3-none-any.whl.metadata (3.4 kB)\n",
      "Collecting flask>=2.2.5 (from Flask-SQLAlchemy)\n",
      "  Downloading flask-3.0.3-py3-none-any.whl.metadata (3.2 kB)\n",
      "Collecting sqlalchemy>=2.0.16 (from Flask-SQLAlchemy)\n",
      "  Downloading SQLAlchemy-2.0.33-cp312-cp312-win_amd64.whl.metadata (9.9 kB)\n",
      "Collecting Werkzeug>=3.0.0 (from flask>=2.2.5->Flask-SQLAlchemy)\n",
      "  Downloading werkzeug-3.0.4-py3-none-any.whl.metadata (3.7 kB)\n",
      "Requirement already satisfied: Jinja2>=3.1.2 in c:\\users\\user\\miniconda3\\envs\\nlp-env\\lib\\site-packages (from flask>=2.2.5->Flask-SQLAlchemy) (3.1.4)\n",
      "Collecting itsdangerous>=2.1.2 (from flask>=2.2.5->Flask-SQLAlchemy)\n",
      "  Downloading itsdangerous-2.2.0-py3-none-any.whl.metadata (1.9 kB)\n",
      "Collecting click>=8.1.3 (from flask>=2.2.5->Flask-SQLAlchemy)\n",
      "  Using cached click-8.1.7-py3-none-any.whl.metadata (3.0 kB)\n",
      "Collecting blinker>=1.6.2 (from flask>=2.2.5->Flask-SQLAlchemy)\n",
      "  Downloading blinker-1.8.2-py3-none-any.whl.metadata (1.6 kB)\n",
      "Requirement already satisfied: typing-extensions>=4.6.0 in c:\\users\\user\\miniconda3\\envs\\nlp-env\\lib\\site-packages (from sqlalchemy>=2.0.16->Flask-SQLAlchemy) (4.12.2)\n",
      "Collecting greenlet!=0.4.17 (from sqlalchemy>=2.0.16->Flask-SQLAlchemy)\n",
      "  Downloading greenlet-3.0.3-cp312-cp312-win_amd64.whl.metadata (3.9 kB)\n",
      "Requirement already satisfied: colorama in c:\\users\\user\\miniconda3\\envs\\nlp-env\\lib\\site-packages (from click>=8.1.3->flask>=2.2.5->Flask-SQLAlchemy) (0.4.6)\n",
      "Requirement already satisfied: MarkupSafe>=2.0 in c:\\users\\user\\miniconda3\\envs\\nlp-env\\lib\\site-packages (from Jinja2>=3.1.2->flask>=2.2.5->Flask-SQLAlchemy) (2.1.5)\n",
      "Downloading flask_sqlalchemy-3.1.1-py3-none-any.whl (25 kB)\n",
      "Downloading flask-3.0.3-py3-none-any.whl (101 kB)\n",
      "Downloading SQLAlchemy-2.0.33-cp312-cp312-win_amd64.whl (2.1 MB)\n",
      "   ---------------------------------------- 0.0/2.1 MB ? eta -:--:--\n",
      "   ---------------------------------------- 0.0/2.1 MB ? eta -:--:--\n",
      "   ----- ---------------------------------- 0.3/2.1 MB ? eta -:--:--\n",
      "   ----- ---------------------------------- 0.3/2.1 MB ? eta -:--:--\n",
      "   ---------- ----------------------------- 0.5/2.1 MB 699.0 kB/s eta 0:00:03\n",
      "   --------------- ------------------------ 0.8/2.1 MB 860.9 kB/s eta 0:00:02\n",
      "   -------------------- ------------------- 1.0/2.1 MB 915.5 kB/s eta 0:00:02\n",
      "   ------------------------- -------------- 1.3/2.1 MB 1.0 MB/s eta 0:00:01\n",
      "   ------------------------------ --------- 1.6/2.1 MB 1.1 MB/s eta 0:00:01\n",
      "   ----------------------------------- ---- 1.8/2.1 MB 1.1 MB/s eta 0:00:01\n",
      "   ---------------------------------------- 2.1/2.1 MB 1.2 MB/s eta 0:00:00\n",
      "Downloading blinker-1.8.2-py3-none-any.whl (9.5 kB)\n",
      "Using cached click-8.1.7-py3-none-any.whl (97 kB)\n",
      "Downloading greenlet-3.0.3-cp312-cp312-win_amd64.whl (293 kB)\n",
      "Downloading itsdangerous-2.2.0-py3-none-any.whl (16 kB)\n",
      "Downloading werkzeug-3.0.4-py3-none-any.whl (227 kB)\n",
      "Installing collected packages: Werkzeug, itsdangerous, greenlet, click, blinker, sqlalchemy, flask, Flask-SQLAlchemy\n",
      "Successfully installed Flask-SQLAlchemy-3.1.1 Werkzeug-3.0.4 blinker-1.8.2 click-8.1.7 flask-3.0.3 greenlet-3.0.3 itsdangerous-2.2.0 sqlalchemy-2.0.33\n",
      "Note: you may need to restart the kernel to use updated packages.\n"
     ]
    }
   ],
   "source": [
    "pip install Flask-SQLAlchemy"
   ]
  },
  {
   "cell_type": "code",
   "execution_count": 21,
   "id": "2e0846d7-75f7-409c-8f9f-5aff4864bb1d",
   "metadata": {},
   "outputs": [],
   "source": [
    "# transformation\n",
    "from sqlalchemy import create_engine\n",
    "def extract()-> dict:\n",
    "# This API extracts data from http://universities.hipolabs.com\n",
    "     API_URL = \"http://universities.hipolabs.com/search?country=United+States\"\n",
    "     data = requests.get(API_URL).json()\n",
    "     return data"
   ]
  },
  {
   "cell_type": "code",
   "execution_count": 22,
   "id": "431d24d6-a48e-4a1d-9388-08bdb439b25e",
   "metadata": {},
   "outputs": [],
   "source": [
    "def transform(data:dict) -> pd.DataFrame:\n",
    "    \"\"\" Transforms the dataset into desired structure and filters\"\"\"\n",
    "    df = pd.DataFrame(data)\n",
    "    print(f\"Total Number of universities from API {len(data)}\")\n",
    "    df = df[df[\"name\"].str.contains(\"California\")]\n",
    "    print(f\"Number of universities in California {len(df)}\")\n",
    "    df['domains'] = [','.join(map(str, l)) for l in df['domains']]\n",
    "    df['web_pages'] = [','.join(map(str, l)) for l in df['web_pages']]\n",
    "    df = df.reset_index(drop=True)\n",
    "    return df[[\"domains\",\"country\",\"web_pages\",\"name\"]]"
   ]
  },
  {
   "cell_type": "code",
   "execution_count": 23,
   "id": "fb97bdfb-f6ef-4f30-a10c-314969047331",
   "metadata": {},
   "outputs": [],
   "source": [
    "def load(df:pd.DataFrame)-> None:\n",
    "    \"\"\" Loads data into a sqllite database\"\"\"\n",
    "    # pip install sqlalchemy ======> execute if it's not done already\n",
    "    disk_engine = create_engine('sqlite:///my_lite_store.db')\n",
    "    df.to_sql('cal_uni', disk_engine, if_exists='replace')"
   ]
  },
  {
   "cell_type": "code",
   "execution_count": 24,
   "id": "57de6e44-d889-434c-a320-fe297c019394",
   "metadata": {},
   "outputs": [],
   "source": [
    "def main_task():\n",
    "    data = extract()\n",
    "    df = transform(data)\n",
    "    load(df)\n",
    "    # %%\n",
    "    main_task()"
   ]
  },
  {
   "cell_type": "code",
   "execution_count": null,
   "id": "f6f855fd-169c-40d8-9b09-2952b9affada",
   "metadata": {},
   "outputs": [],
   "source": []
  }
 ],
 "metadata": {
  "kernelspec": {
   "display_name": "Python 3 (ipykernel)",
   "language": "python",
   "name": "python3"
  },
  "language_info": {
   "codemirror_mode": {
    "name": "ipython",
    "version": 3
   },
   "file_extension": ".py",
   "mimetype": "text/x-python",
   "name": "python",
   "nbconvert_exporter": "python",
   "pygments_lexer": "ipython3",
   "version": "3.12.5"
  }
 },
 "nbformat": 4,
 "nbformat_minor": 5
}
