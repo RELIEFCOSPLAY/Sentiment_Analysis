{
 "cells": [
  {
   "cell_type": "code",
   "execution_count": 28,
   "id": "1b97d045-b111-448b-830f-22cb87b92429",
   "metadata": {},
   "outputs": [],
   "source": [
    "from selenium import webdriver\n",
    "from selenium.webdriver.chrome.service import Service\n",
    "from selenium.webdriver.common.by import By\n",
    "from selenium.webdriver.common.keys import Keys\n",
    "import bs4\n",
    "import pandas as pd"
   ]
  },
  {
   "cell_type": "code",
   "execution_count": 29,
   "id": "f99ee02c-7eb4-4800-85df-e1ba365ee070",
   "metadata": {},
   "outputs": [],
   "source": [
    "service = Service(r'C:\\Users\\User\\Desktop\\ETLPY\\Sentiment_Analysis\\nlp\\Web_Scraping\\chromedriver\\chromedriver.exe')\n",
    "driver = webdriver.Chrome(service=service)"
   ]
  },
  {
   "cell_type": "code",
   "execution_count": 31,
   "id": "623f457c-6503-474d-8777-7047dbe91402",
   "metadata": {},
   "outputs": [],
   "source": [
    "driver.get('https://www.agoda.com/th-th/b2-chiang-rai/hotel/chiang-rai-th.html?finalPriceView=1&isShowMobileAppPrice=false&cid=1919460&numberOfBedrooms=&familyMode=false&adults=2&children=0&rooms=1&maxRooms=0&checkIn=2025-01-1&isCalendarCallout=false&childAges=&numberOfGuest=0&missingChildAges=false&travellerType=1&showReviewSubmissionEntry=false&currencyCode=THB&isFreeOccSearch=false&tag=0a328c07-ad6e-4792-a9e4-7ce7e23e118c&tspTypes=9%2C8&los=3&searchrequestid=21e3c02f-9691-4c23-8f18-d280976fedb2&ds=aIV31HDE2WS%2FPO5I')"
   ]
  },
  {
   "cell_type": "code",
   "execution_count": 22,
   "id": "1d7bca74-faea-43a0-b935-eaf1b7bd15f0",
   "metadata": {},
   "outputs": [],
   "source": [
    "driver.execute_script(\"document.body.style.zoom='100%'\")"
   ]
  },
  {
   "cell_type": "code",
   "execution_count": 5,
   "id": "6fe8e5b1-56cf-4b22-a5ca-cf3c26d379e5",
   "metadata": {},
   "outputs": [],
   "source": [
    "#bad_dataSize = driver.find_element(By.XPATH, '/html/body/div[2]/div[1]/div[1]/div/div[3]/div[1]/button')"
   ]
  },
  {
   "cell_type": "code",
   "execution_count": 14,
   "id": "18b3a5d8-3d29-40a8-a34f-ee39617331de",
   "metadata": {},
   "outputs": [],
   "source": [
    "data = driver.page_source"
   ]
  },
  {
   "cell_type": "code",
   "execution_count": 15,
   "id": "90337526-c5b3-4656-b2e6-87838bed4e68",
   "metadata": {},
   "outputs": [],
   "source": [
    "soup = bs4.BeautifulSoup(data)"
   ]
  },
  {
   "cell_type": "code",
   "execution_count": 16,
   "id": "b590ed69-eac7-4e2b-8489-853fdf0b82d3",
   "metadata": {},
   "outputs": [
    {
     "data": {
      "text/plain": [
       "35"
      ]
     },
     "execution_count": 16,
     "metadata": {},
     "output_type": "execute_result"
    }
   ],
   "source": [
    "len(soup.find_all('div',{'class':'Box-sc-kv6pi1-0 hRUYUu MasterRoom-amenitiesTitle'}))"
   ]
  },
  {
   "cell_type": "code",
   "execution_count": 17,
   "id": "b1d331fb-7c91-4496-96cb-4da4e7c1c105",
   "metadata": {},
   "outputs": [],
   "source": [
    "all_bad = soup.find_all('div',{'class':'Box-sc-kv6pi1-0 hRUYUu MasterRoom-amenitiesTitle'})"
   ]
  },
  {
   "cell_type": "code",
   "execution_count": 18,
   "id": "8b72293c-f2f6-4125-9f49-c5b1fc3d4fe5",
   "metadata": {},
   "outputs": [
    {
     "name": "stdout",
     "output_type": "stream",
     "text": [
      "ฟรี! Wi-Fi\n",
      "\n",
      "2 เตียงเดี่ยว\n",
      "\n",
      "ขนาดห้อง: 20 ตารางเมตร\n",
      "\n",
      "วิว: เมือง\n",
      "\n",
      "ห้องปลอดบุหรี่\n",
      "\n",
      "ฝักบัว\n",
      "\n",
      "ดูบริการและสิ่งอำนวยความสะดวกทั้งหมด\n",
      "\n",
      "ฟรี! Wi-Fi\n",
      "\n",
      "1 เตียงใหญ่\n",
      "\n",
      "ขนาดห้อง: 20 ตารางเมตร\n",
      "\n",
      "วิว: เมือง\n",
      "\n",
      "ห้องปลอดบุหรี่\n",
      "\n",
      "ฝักบัว\n",
      "\n",
      "ดูบริการและสิ่งอำนวยความสะดวกทั้งหมด\n",
      "\n",
      "ฟรี! Wi-Fi\n",
      "\n",
      "2 เตียงเดี่ยว\n",
      "\n",
      "ขนาดห้อง: 25 ตารางเมตร\n",
      "\n",
      "วิว: เมือง\n",
      "\n",
      "ห้องปลอดบุหรี่\n",
      "\n",
      "ฝักบัว\n",
      "\n",
      "ดูบริการและสิ่งอำนวยความสะดวกทั้งหมด\n",
      "\n",
      "ฟรี! Wi-Fi\n",
      "\n",
      "1 เตียงใหญ่\n",
      "\n",
      "ขนาดห้อง: 25 ตารางเมตร\n",
      "\n",
      "วิว: เมือง\n",
      "\n",
      "ห้องปลอดบุหรี่\n",
      "\n",
      "ฝักบัว\n",
      "\n",
      "ดูบริการและสิ่งอำนวยความสะดวกทั้งหมด\n",
      "\n",
      "ฟรี! Wi-Fi\n",
      "\n",
      "1 เตียงใหญ่\n",
      "\n",
      "ขนาดห้อง: 40 ตารางเมตร\n",
      "\n",
      "วิว: เมือง\n",
      "\n",
      "ห้องปลอดบุหรี่\n",
      "\n",
      "ฝักบัวและอ่างอาบน้ำ\n",
      "\n",
      "ดูบริการและสิ่งอำนวยความสะดวกทั้งหมด\n",
      "\n"
     ]
    }
   ],
   "source": [
    "for bad in all_bad:\n",
    "    print(bad.text)\n",
    "    print()"
   ]
  },
  {
   "cell_type": "code",
   "execution_count": 23,
   "id": "ec8e6a1e-8f17-419b-9f34-2ea5537a1494",
   "metadata": {},
   "outputs": [
    {
     "data": {
      "text/plain": [
       "41"
      ]
     },
     "execution_count": 23,
     "metadata": {},
     "output_type": "execute_result"
    }
   ],
   "source": [
    "len(soup.find_all('p',{'class':'sc-jrAGrp sc-kEjbxe eDlaBj gSyxMi'}))"
   ]
  },
  {
   "cell_type": "code",
   "execution_count": 26,
   "id": "08bd23f1-3715-44f5-b094-2ed8a4794e11",
   "metadata": {},
   "outputs": [],
   "source": [
    "all_pro = soup.find_all('p',{'class':'sc-jrAGrp sc-kEjbxe eDlaBj gSyxMi'})"
   ]
  },
  {
   "cell_type": "code",
   "execution_count": 27,
   "id": "e5b879a0-edd1-42ec-82a8-94997c282c99",
   "metadata": {},
   "outputs": [
    {
     "name": "stdout",
     "output_type": "stream",
     "text": [
      "ยกเลิกการจองได้ฟรีก่อนวันที่ 25 ธันวาคม 2024\n",
      "\n",
      "【ไม่ต้องจ่ายทันที】 - จองวันนี้ แต่จ่ายวันที่ 23 ธันวาคม 2024\n",
      "\n",
      "ที่จอดรถ\n",
      "\n",
      "ฟรีอินเทอร์เน็ตไร้สาย (Wi-Fi)\n",
      "\n",
      "ขอรับเงินคืนไม่ได้ (ราคาถูกสุดๆ!)\n",
      "\n",
      "จองและจ่ายทันที\n",
      "\n",
      "ที่จอดรถ\n",
      "\n",
      "ฟรีอินเทอร์เน็ตไร้สาย (Wi-Fi)\n",
      "\n",
      "ยกเลิกการจองได้ฟรีก่อนวันที่ 25 ธันวาคม 2024\n",
      "\n",
      "【ไม่ต้องจ่ายทันที】 - จองวันนี้ แต่จ่ายวันที่ 23 ธันวาคม 2024\n",
      "\n",
      "ที่จอดรถ\n",
      "\n",
      "ฟรีอินเทอร์เน็ตไร้สาย (Wi-Fi)\n",
      "\n",
      "ขอรับเงินคืนไม่ได้ (ราคาถูกสุดๆ!)\n",
      "\n",
      "จองและจ่ายทันที\n",
      "\n",
      "ที่จอดรถ\n",
      "\n",
      "ฟรีอินเทอร์เน็ตไร้สาย (Wi-Fi)\n",
      "\n",
      "ยกเลิกการจองได้ฟรีก่อนวันที่ 25 ธันวาคม 2024\n",
      "\n",
      "【ไม่ต้องจ่ายทันที】 - จองวันนี้ แต่จ่ายวันที่ 23 ธันวาคม 2024\n",
      "\n",
      "ที่จอดรถ\n",
      "\n",
      "ฟรีอินเทอร์เน็ตไร้สาย (Wi-Fi)\n",
      "\n",
      "ขอรับเงินคืนไม่ได้ (ราคาถูกสุดๆ!)\n",
      "\n",
      "จองและจ่ายทันที\n",
      "\n",
      "ที่จอดรถ\n",
      "\n",
      "ฟรีอินเทอร์เน็ตไร้สาย (Wi-Fi)\n",
      "\n",
      "ยกเลิกการจองได้ฟรีก่อนวันที่ 25 ธันวาคม 2024\n",
      "\n",
      "【ไม่ต้องจ่ายทันที】 - จองวันนี้ แต่จ่ายวันที่ 23 ธันวาคม 2024\n",
      "\n",
      "ที่จอดรถ\n",
      "\n",
      "ฟรีอินเทอร์เน็ตไร้สาย (Wi-Fi)\n",
      "\n",
      "ขอรับเงินคืนไม่ได้ (ราคาถูกสุดๆ!)\n",
      "\n",
      "จองและจ่ายทันที\n",
      "\n",
      "ที่จอดรถ\n",
      "\n",
      "ฟรีอินเทอร์เน็ตไร้สาย (Wi-Fi)\n",
      "\n",
      "ยกเลิกการจองได้ฟรีก่อนวันที่ 25 ธันวาคม 2024\n",
      "\n",
      "【ไม่ต้องจ่ายทันที】 - จองวันนี้ แต่จ่ายวันที่ 23 ธันวาคม 2024\n",
      "\n",
      "ที่จอดรถ\n",
      "\n",
      "ฟรีอินเทอร์เน็ตไร้สาย (Wi-Fi)\n",
      "\n",
      "ขอรับเงินคืนไม่ได้ (ราคาถูกสุดๆ!)\n",
      "\n",
      "จองและจ่ายทันที\n",
      "\n",
      "ที่จอดรถ\n",
      "\n",
      "ฟรีอินเทอร์เน็ตไร้สาย (Wi-Fi)\n",
      "\n",
      "รีวิวจากผู้เข้าพักจริง ซึ่งจองผ่าน\n",
      "\n"
     ]
    }
   ],
   "source": [
    "for pro in all_pro:\n",
    "    print(pro.text)\n",
    "    print()"
   ]
  },
  {
   "cell_type": "code",
   "execution_count": null,
   "id": "5581424c-3f8f-4ef2-9610-3e1f26f041a4",
   "metadata": {},
   "outputs": [],
   "source": []
  }
 ],
 "metadata": {
  "kernelspec": {
   "display_name": "Python 3 (ipykernel)",
   "language": "python",
   "name": "python3"
  },
  "language_info": {
   "codemirror_mode": {
    "name": "ipython",
    "version": 3
   },
   "file_extension": ".py",
   "mimetype": "text/x-python",
   "name": "python",
   "nbconvert_exporter": "python",
   "pygments_lexer": "ipython3",
   "version": "3.12.5"
  }
 },
 "nbformat": 4,
 "nbformat_minor": 5
}
