{
 "cells": [
  {
   "cell_type": "code",
   "execution_count": 1,
   "id": "1b97d045-b111-448b-830f-22cb87b92429",
   "metadata": {},
   "outputs": [],
   "source": [
    "from selenium import webdriver\n",
    "from selenium.webdriver.chrome.service import Service\n",
    "from selenium.webdriver.common.by import By\n",
    "from selenium.webdriver.common.keys import Keys"
   ]
  },
  {
   "cell_type": "code",
   "execution_count": 2,
   "id": "f99ee02c-7eb4-4800-85df-e1ba365ee070",
   "metadata": {},
   "outputs": [],
   "source": [
    "service = Service(r'C:\\Users\\User\\Desktop\\ETLPY\\Sentiment_Analysis\\nlp\\Web_Scraping\\chromedriver\\chromedriver.exe')\n",
    "driver = webdriver.Chrome(service=service)"
   ]
  },
  {
   "cell_type": "code",
   "execution_count": 3,
   "id": "623f457c-6503-474d-8777-7047dbe91402",
   "metadata": {},
   "outputs": [],
   "source": [
    "driver.get('https://x.com/SWEATY333/status/1869825318716092839')"
   ]
  },
  {
   "cell_type": "code",
   "execution_count": null,
   "id": "6fe8e5b1-56cf-4b22-a5ca-cf3c26d379e5",
   "metadata": {},
   "outputs": [],
   "source": [
    "#thai_button = driver.find_element(By.XPATH, '/html/body/div[2]/div[1]/div[1]/div/div[3]/div[1]/button')"
   ]
  },
  {
   "cell_type": "code",
   "execution_count": null,
   "id": "00a69390-4643-4a4c-91c0-6cfba4326b4c",
   "metadata": {},
   "outputs": [],
   "source": [
    "#thai_button.click()  # คลิกปุ่ม"
   ]
  },
  {
   "cell_type": "code",
   "execution_count": null,
   "id": "bf607605-c5ae-48aa-afac-c4ba41f0f6d5",
   "metadata": {},
   "outputs": [],
   "source": [
    "#close_button = driver.execute_script('return document.querySelector(\"shopee-banner-popup-stateful\").shadowRoot.querySelector(\"div.shopee-popup__close-btn\")')"
   ]
  },
  {
   "cell_type": "code",
   "execution_count": null,
   "id": "afc62da8-e268-442b-a2bc-df81d593b124",
   "metadata": {},
   "outputs": [],
   "source": [
    "#close_button.click()"
   ]
  },
  {
   "cell_type": "code",
   "execution_count": null,
   "id": "0239537f-e814-4b7d-81cb-bb1fab15a57f",
   "metadata": {},
   "outputs": [],
   "source": [
    "#search = driver.find_element(By.XPATH, '/html/body/div[1]/div/div[2]/header/div[2]/div/div/div[1]/form/div/div/input')"
   ]
  },
  {
   "cell_type": "code",
   "execution_count": null,
   "id": "1ec697c1-b047-499b-978a-2ffc4bbca4bb",
   "metadata": {},
   "outputs": [],
   "source": [
    "#search.send_keys('ชีสทาร์ตสตอเบอรี่')"
   ]
  },
  {
   "cell_type": "code",
   "execution_count": null,
   "id": "744dd5d7-934e-4c89-9c2e-d69e04a884e6",
   "metadata": {},
   "outputs": [],
   "source": [
    "#search.send_keys(Keys.ENTER)"
   ]
  },
  {
   "cell_type": "code",
   "execution_count": null,
   "id": "18b3a5d8-3d29-40a8-a34f-ee39617331de",
   "metadata": {},
   "outputs": [],
   "source": []
  }
 ],
 "metadata": {
  "kernelspec": {
   "display_name": "Python 3 (ipykernel)",
   "language": "python",
   "name": "python3"
  },
  "language_info": {
   "codemirror_mode": {
    "name": "ipython",
    "version": 3
   },
   "file_extension": ".py",
   "mimetype": "text/x-python",
   "name": "python",
   "nbconvert_exporter": "python",
   "pygments_lexer": "ipython3",
   "version": "3.12.5"
  }
 },
 "nbformat": 4,
 "nbformat_minor": 5
}
