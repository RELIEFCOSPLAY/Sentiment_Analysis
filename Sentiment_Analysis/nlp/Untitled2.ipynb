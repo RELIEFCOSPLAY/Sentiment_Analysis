{
 "cells": [
  {
   "cell_type": "code",
   "execution_count": 1,
   "id": "ab044153-3093-4e89-bcd1-c0ad52edf261",
   "metadata": {},
   "outputs": [
    {
     "data": {
      "text/plain": [
       "[['B', '10'],\n",
       " ['F', '11'],\n",
       " ['A', '010'],\n",
       " ['C', '011'],\n",
       " ['G', '001'],\n",
       " ['D', '0001'],\n",
       " ['E', '0000']]"
      ]
     },
     "execution_count": 1,
     "metadata": {},
     "output_type": "execute_result"
    }
   ],
   "source": [
    "import heapq\n",
    "\n",
    "# Define the frequencies for each character\n",
    "frequencies = {\n",
    "    'A': 29,\n",
    "    'B': 64,\n",
    "    'C': 32,\n",
    "    'D': 12,\n",
    "    'E': 9,\n",
    "    'F': 66,\n",
    "    'G': 23\n",
    "}\n",
    "\n",
    "# Create a priority queue for building the Huffman tree\n",
    "priority_queue = [[weight, [char, \"\"]] for char, weight in frequencies.items()]\n",
    "heapq.heapify(priority_queue)\n",
    "\n",
    "# Build the Huffman tree\n",
    "while len(priority_queue) > 1:\n",
    "    lo = heapq.heappop(priority_queue)\n",
    "    hi = heapq.heappop(priority_queue)\n",
    "    for pair in lo[1:]:\n",
    "        pair[1] = '0' + pair[1]\n",
    "    for pair in hi[1:]:\n",
    "        pair[1] = '1' + pair[1]\n",
    "    heapq.heappush(priority_queue, [lo[0] + hi[0]] + lo[1:] + hi[1:])\n",
    "\n",
    "# Extract the Huffman codes\n",
    "huffman_codes = sorted(heapq.heappop(priority_queue)[1:], key=lambda p: (len(p[-1]), p))\n",
    "\n",
    "huffman_codes\n"
   ]
  },
  {
   "cell_type": "code",
   "execution_count": null,
   "id": "b96c7488-2b07-4af6-8d70-0b8230e912ef",
   "metadata": {},
   "outputs": [],
   "source": []
  }
 ],
 "metadata": {
  "kernelspec": {
   "display_name": "Python 3 (ipykernel)",
   "language": "python",
   "name": "python3"
  },
  "language_info": {
   "codemirror_mode": {
    "name": "ipython",
    "version": 3
   },
   "file_extension": ".py",
   "mimetype": "text/x-python",
   "name": "python",
   "nbconvert_exporter": "python",
   "pygments_lexer": "ipython3",
   "version": "3.12.5"
  }
 },
 "nbformat": 4,
 "nbformat_minor": 5
}
