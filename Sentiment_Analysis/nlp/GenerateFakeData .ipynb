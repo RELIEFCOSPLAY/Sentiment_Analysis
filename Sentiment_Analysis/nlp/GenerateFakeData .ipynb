{
 "cells": [
  {
   "cell_type": "code",
   "execution_count": 1,
   "id": "3abbc4e3-659e-4feb-b681-121f970f6be7",
   "metadata": {},
   "outputs": [
    {
     "name": "stdout",
     "output_type": "stream",
     "text": [
      "Order.csv generated successfully.\n"
     ]
    }
   ],
   "source": [
    "import csv\n",
    "import random\n",
    "from faker import Faker\n",
    "\n",
    "# Initialize Faker\n",
    "fake = Faker()\n",
    "\n",
    "# Specify the number of records to generate\n",
    "num_records = 1000\n",
    "\n",
    "# Create header for CSV\n",
    "header = ['Order_id', 'Customer_id', 'Customer_Name', 'Invoice_Amount']\n",
    "\n",
    "# Generate fake data and write to CSV\n",
    "with open('Order.csv', 'w', newline='') as file:\n",
    "    writer = csv.writer(file)\n",
    "    writer.writerow(header)\n",
    "    \n",
    "    for order_id in range(1, num_records + 1):\n",
    "        customer_id = fake.random_int(min=1000, max=9999)\n",
    "        customer_name = fake.name()\n",
    "        invoice_amount = round(random.uniform(1000, 10000), 2)  # Random amount between 1000 and 10000\n",
    "        \n",
    "        writer.writerow([order_id, customer_id, customer_name, invoice_amount])\n",
    "\n",
    "print(\"Order.csv generated successfully.\")\n"
   ]
  },
  {
   "cell_type": "code",
   "execution_count": null,
   "id": "2769ca60-1909-46f5-9bee-36e204f85048",
   "metadata": {},
   "outputs": [],
   "source": []
  }
 ],
 "metadata": {
  "kernelspec": {
   "display_name": "Python 3 (ipykernel)",
   "language": "python",
   "name": "python3"
  },
  "language_info": {
   "codemirror_mode": {
    "name": "ipython",
    "version": 3
   },
   "file_extension": ".py",
   "mimetype": "text/x-python",
   "name": "python",
   "nbconvert_exporter": "python",
   "pygments_lexer": "ipython3",
   "version": "3.12.5"
  }
 },
 "nbformat": 4,
 "nbformat_minor": 5
}
